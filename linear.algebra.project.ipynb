{
 "cells": [
  {
   "cell_type": "markdown",
   "metadata": {},
   "source": [
    "# Statement"
   ]
  },
  {
   "cell_type": "markdown",
   "metadata": {},
   "source": [
    "The Sure Tomorrow insurance company wants to solve several tasks with the help of Machine Learning and you are asked to evaluate that possibility.\n",
    "\n",
    "- Task 1: Find customers who are similar to a given customer. This will help the company's agents with marketing.\n",
    "- Task 2: Predict whether a new customer is likely to receive an insurance benefit. Can a prediction model do better than a dummy model?\n",
    "- Task 3: Predict the number of insurance benefits a new customer is likely to receive using a linear regression model.\n",
    "- Task 4: Protect clients' personal data without breaking the model from the previous task. It's necessary to develop a data transformation algorithm that would make it hard to recover personal information if the data fell into the wrong hands. This is called data masking, or data obfuscation. But the data should be protected in such a way that the quality of machine learning models doesn't suffer. You don't need to pick the best model, just prove that the algorithm works correctly."
   ]
  },
  {
   "cell_type": "markdown",
   "metadata": {},
   "source": [
    "# A Machine Learning Approach to Insurance Benefit Prediction: Classification, Regression, and Data Obfuscation\n",
    "\n",
    "This project aims to predict insurance benefit outcomes using supervised machine learning techniques, addressing both classification (whether a benefit is received) and regression (the amount of benefit) tasks. The workflow includes data preprocessing, exploratory analysis, and the application of models such as k-Nearest Neighbors and Linear Regression. Model performance is assessed using metrics including F1 score, RMSE, and $R^2$, with additional comparisons made against baseline dummy classifiers. The study further examines the impact of feature scaling on model effectiveness and includes a custom implementation of linear regression. Finally, the project analytically and computationally demonstrates that linear regression remains invariant under linear transformations of the feature space.\n",
    "\n",
    "\n",
    "Heather Marie Culligan \n",
    "\n",
    "April 2025"
   ]
  },
  {
   "cell_type": "markdown",
   "metadata": {},
   "source": [
    "# Data Preprocessing & Exploration\n",
    "\n",
    "## Initialization"
   ]
  },
  {
   "cell_type": "code",
   "execution_count": 1,
   "metadata": {},
   "outputs": [],
   "source": [
    "import math\n",
    "import numpy as np\n",
    "import pandas as pd\n",
    "import seaborn as sns\n",
    "import matplotlib.pyplot as plt\n",
    "\n",
    "import sklearn.metrics\n",
    "import sklearn.neighbors\n",
    "import sklearn.linear_model\n",
    "import sklearn.preprocessing\n",
    "from sklearn.metrics import f1_score\n",
    "from sklearn.dummy import DummyClassifier\n",
    "from sklearn.neighbors import NearestNeighbors\n",
    "from sklearn.preprocessing import StandardScaler\n",
    "from sklearn.neighbors import KNeighborsClassifier\n",
    "from sklearn.model_selection import train_test_split\n",
    "from sklearn.linear_model import LinearRegression, LogisticRegression\n",
    "from sklearn.metrics import accuracy_score, confusion_matrix, classification_report, mean_squared_error, r2_score\n",
    "\n",
    "from numpy.linalg import inv\n",
    "from IPython.display import display"
   ]
  },
  {
   "cell_type": "markdown",
   "metadata": {},
   "source": [
    "## Load Data"
   ]
  },
  {
   "cell_type": "markdown",
   "metadata": {},
   "source": [
    "Load data and conduct a basic check that it's free from obvious issues."
   ]
  },
  {
   "cell_type": "code",
   "execution_count": 2,
   "metadata": {},
   "outputs": [],
   "source": [
    "df = pd.read_csv('/datasets/insurance_us.csv')"
   ]
  },
  {
   "cell_type": "markdown",
   "metadata": {},
   "source": [
    "We rename the colums to make the code look more consistent with its style."
   ]
  },
  {
   "cell_type": "code",
   "execution_count": 3,
   "metadata": {},
   "outputs": [],
   "source": [
    "df = df.rename(columns={'Gender': 'gender', 'Age': 'age', 'Salary': 'income', 'Family members': 'family_members', 'Insurance benefits': 'insurance_benefits'})"
   ]
  },
  {
   "cell_type": "code",
   "execution_count": 4,
   "metadata": {},
   "outputs": [
    {
     "data": {
      "text/html": [
       "<div>\n",
       "<style scoped>\n",
       "    .dataframe tbody tr th:only-of-type {\n",
       "        vertical-align: middle;\n",
       "    }\n",
       "\n",
       "    .dataframe tbody tr th {\n",
       "        vertical-align: top;\n",
       "    }\n",
       "\n",
       "    .dataframe thead th {\n",
       "        text-align: right;\n",
       "    }\n",
       "</style>\n",
       "<table border=\"1\" class=\"dataframe\">\n",
       "  <thead>\n",
       "    <tr style=\"text-align: right;\">\n",
       "      <th></th>\n",
       "      <th>gender</th>\n",
       "      <th>age</th>\n",
       "      <th>income</th>\n",
       "      <th>family_members</th>\n",
       "      <th>insurance_benefits</th>\n",
       "    </tr>\n",
       "  </thead>\n",
       "  <tbody>\n",
       "    <tr>\n",
       "      <th>4215</th>\n",
       "      <td>1</td>\n",
       "      <td>24.0</td>\n",
       "      <td>48100.0</td>\n",
       "      <td>2</td>\n",
       "      <td>0</td>\n",
       "    </tr>\n",
       "    <tr>\n",
       "      <th>1862</th>\n",
       "      <td>1</td>\n",
       "      <td>28.0</td>\n",
       "      <td>46600.0</td>\n",
       "      <td>1</td>\n",
       "      <td>0</td>\n",
       "    </tr>\n",
       "    <tr>\n",
       "      <th>3345</th>\n",
       "      <td>0</td>\n",
       "      <td>20.0</td>\n",
       "      <td>44200.0</td>\n",
       "      <td>1</td>\n",
       "      <td>0</td>\n",
       "    </tr>\n",
       "    <tr>\n",
       "      <th>2152</th>\n",
       "      <td>1</td>\n",
       "      <td>20.0</td>\n",
       "      <td>39200.0</td>\n",
       "      <td>1</td>\n",
       "      <td>0</td>\n",
       "    </tr>\n",
       "    <tr>\n",
       "      <th>2624</th>\n",
       "      <td>1</td>\n",
       "      <td>19.0</td>\n",
       "      <td>37300.0</td>\n",
       "      <td>0</td>\n",
       "      <td>0</td>\n",
       "    </tr>\n",
       "    <tr>\n",
       "      <th>247</th>\n",
       "      <td>1</td>\n",
       "      <td>41.0</td>\n",
       "      <td>33800.0</td>\n",
       "      <td>1</td>\n",
       "      <td>0</td>\n",
       "    </tr>\n",
       "    <tr>\n",
       "      <th>153</th>\n",
       "      <td>0</td>\n",
       "      <td>20.0</td>\n",
       "      <td>35200.0</td>\n",
       "      <td>1</td>\n",
       "      <td>0</td>\n",
       "    </tr>\n",
       "    <tr>\n",
       "      <th>3830</th>\n",
       "      <td>1</td>\n",
       "      <td>26.0</td>\n",
       "      <td>46200.0</td>\n",
       "      <td>2</td>\n",
       "      <td>0</td>\n",
       "    </tr>\n",
       "    <tr>\n",
       "      <th>4907</th>\n",
       "      <td>1</td>\n",
       "      <td>41.0</td>\n",
       "      <td>45200.0</td>\n",
       "      <td>0</td>\n",
       "      <td>0</td>\n",
       "    </tr>\n",
       "    <tr>\n",
       "      <th>537</th>\n",
       "      <td>0</td>\n",
       "      <td>20.0</td>\n",
       "      <td>38700.0</td>\n",
       "      <td>1</td>\n",
       "      <td>0</td>\n",
       "    </tr>\n",
       "  </tbody>\n",
       "</table>\n",
       "</div>"
      ],
      "text/plain": [
       "      gender   age   income  family_members  insurance_benefits\n",
       "4215       1  24.0  48100.0               2                   0\n",
       "1862       1  28.0  46600.0               1                   0\n",
       "3345       0  20.0  44200.0               1                   0\n",
       "2152       1  20.0  39200.0               1                   0\n",
       "2624       1  19.0  37300.0               0                   0\n",
       "247        1  41.0  33800.0               1                   0\n",
       "153        0  20.0  35200.0               1                   0\n",
       "3830       1  26.0  46200.0               2                   0\n",
       "4907       1  41.0  45200.0               0                   0\n",
       "537        0  20.0  38700.0               1                   0"
      ]
     },
     "execution_count": 4,
     "metadata": {},
     "output_type": "execute_result"
    }
   ],
   "source": [
    "df.sample(10)"
   ]
  },
  {
   "cell_type": "code",
   "execution_count": 5,
   "metadata": {},
   "outputs": [
    {
     "name": "stdout",
     "output_type": "stream",
     "text": [
      "<class 'pandas.core.frame.DataFrame'>\n",
      "RangeIndex: 5000 entries, 0 to 4999\n",
      "Data columns (total 5 columns):\n",
      " #   Column              Non-Null Count  Dtype  \n",
      "---  ------              --------------  -----  \n",
      " 0   gender              5000 non-null   int64  \n",
      " 1   age                 5000 non-null   float64\n",
      " 2   income              5000 non-null   float64\n",
      " 3   family_members      5000 non-null   int64  \n",
      " 4   insurance_benefits  5000 non-null   int64  \n",
      "dtypes: float64(2), int64(3)\n",
      "memory usage: 195.4 KB\n"
     ]
    }
   ],
   "source": [
    "df.info()"
   ]
  },
  {
   "cell_type": "code",
   "execution_count": 6,
   "metadata": {},
   "outputs": [],
   "source": [
    "df['age'] = df['age'].astype(int)"
   ]
  },
  {
   "cell_type": "code",
   "execution_count": 7,
   "metadata": {},
   "outputs": [
    {
     "name": "stdout",
     "output_type": "stream",
     "text": [
      "<class 'pandas.core.frame.DataFrame'>\n",
      "RangeIndex: 5000 entries, 0 to 4999\n",
      "Data columns (total 5 columns):\n",
      " #   Column              Non-Null Count  Dtype  \n",
      "---  ------              --------------  -----  \n",
      " 0   gender              5000 non-null   int64  \n",
      " 1   age                 5000 non-null   int64  \n",
      " 2   income              5000 non-null   float64\n",
      " 3   family_members      5000 non-null   int64  \n",
      " 4   insurance_benefits  5000 non-null   int64  \n",
      "dtypes: float64(1), int64(4)\n",
      "memory usage: 195.4 KB\n"
     ]
    }
   ],
   "source": [
    "df.info()"
   ]
  },
  {
   "cell_type": "code",
   "execution_count": 8,
   "metadata": {},
   "outputs": [
    {
     "data": {
      "text/html": [
       "<div>\n",
       "<style scoped>\n",
       "    .dataframe tbody tr th:only-of-type {\n",
       "        vertical-align: middle;\n",
       "    }\n",
       "\n",
       "    .dataframe tbody tr th {\n",
       "        vertical-align: top;\n",
       "    }\n",
       "\n",
       "    .dataframe thead th {\n",
       "        text-align: right;\n",
       "    }\n",
       "</style>\n",
       "<table border=\"1\" class=\"dataframe\">\n",
       "  <thead>\n",
       "    <tr style=\"text-align: right;\">\n",
       "      <th></th>\n",
       "      <th>gender</th>\n",
       "      <th>age</th>\n",
       "      <th>income</th>\n",
       "      <th>family_members</th>\n",
       "      <th>insurance_benefits</th>\n",
       "    </tr>\n",
       "  </thead>\n",
       "  <tbody>\n",
       "    <tr>\n",
       "      <th>count</th>\n",
       "      <td>5000.000000</td>\n",
       "      <td>5000.000000</td>\n",
       "      <td>5000.000000</td>\n",
       "      <td>5000.000000</td>\n",
       "      <td>5000.000000</td>\n",
       "    </tr>\n",
       "    <tr>\n",
       "      <th>mean</th>\n",
       "      <td>0.499000</td>\n",
       "      <td>30.952800</td>\n",
       "      <td>39916.360000</td>\n",
       "      <td>1.194200</td>\n",
       "      <td>0.148000</td>\n",
       "    </tr>\n",
       "    <tr>\n",
       "      <th>std</th>\n",
       "      <td>0.500049</td>\n",
       "      <td>8.440807</td>\n",
       "      <td>9900.083569</td>\n",
       "      <td>1.091387</td>\n",
       "      <td>0.463183</td>\n",
       "    </tr>\n",
       "    <tr>\n",
       "      <th>min</th>\n",
       "      <td>0.000000</td>\n",
       "      <td>18.000000</td>\n",
       "      <td>5300.000000</td>\n",
       "      <td>0.000000</td>\n",
       "      <td>0.000000</td>\n",
       "    </tr>\n",
       "    <tr>\n",
       "      <th>25%</th>\n",
       "      <td>0.000000</td>\n",
       "      <td>24.000000</td>\n",
       "      <td>33300.000000</td>\n",
       "      <td>0.000000</td>\n",
       "      <td>0.000000</td>\n",
       "    </tr>\n",
       "    <tr>\n",
       "      <th>50%</th>\n",
       "      <td>0.000000</td>\n",
       "      <td>30.000000</td>\n",
       "      <td>40200.000000</td>\n",
       "      <td>1.000000</td>\n",
       "      <td>0.000000</td>\n",
       "    </tr>\n",
       "    <tr>\n",
       "      <th>75%</th>\n",
       "      <td>1.000000</td>\n",
       "      <td>37.000000</td>\n",
       "      <td>46600.000000</td>\n",
       "      <td>2.000000</td>\n",
       "      <td>0.000000</td>\n",
       "    </tr>\n",
       "    <tr>\n",
       "      <th>max</th>\n",
       "      <td>1.000000</td>\n",
       "      <td>65.000000</td>\n",
       "      <td>79000.000000</td>\n",
       "      <td>6.000000</td>\n",
       "      <td>5.000000</td>\n",
       "    </tr>\n",
       "  </tbody>\n",
       "</table>\n",
       "</div>"
      ],
      "text/plain": [
       "            gender          age        income  family_members  \\\n",
       "count  5000.000000  5000.000000   5000.000000     5000.000000   \n",
       "mean      0.499000    30.952800  39916.360000        1.194200   \n",
       "std       0.500049     8.440807   9900.083569        1.091387   \n",
       "min       0.000000    18.000000   5300.000000        0.000000   \n",
       "25%       0.000000    24.000000  33300.000000        0.000000   \n",
       "50%       0.000000    30.000000  40200.000000        1.000000   \n",
       "75%       1.000000    37.000000  46600.000000        2.000000   \n",
       "max       1.000000    65.000000  79000.000000        6.000000   \n",
       "\n",
       "       insurance_benefits  \n",
       "count         5000.000000  \n",
       "mean             0.148000  \n",
       "std              0.463183  \n",
       "min              0.000000  \n",
       "25%              0.000000  \n",
       "50%              0.000000  \n",
       "75%              0.000000  \n",
       "max              5.000000  "
      ]
     },
     "execution_count": 8,
     "metadata": {},
     "output_type": "execute_result"
    }
   ],
   "source": [
    "df.describe()"
   ]
  },
  {
   "cell_type": "code",
   "execution_count": 9,
   "metadata": {},
   "outputs": [
    {
     "data": {
      "text/plain": [
       "153"
      ]
     },
     "execution_count": 9,
     "metadata": {},
     "output_type": "execute_result"
    }
   ],
   "source": [
    "df.duplicated().sum()"
   ]
  },
  {
   "cell_type": "code",
   "execution_count": 10,
   "metadata": {},
   "outputs": [
    {
     "data": {
      "text/plain": [
       "gender                0\n",
       "age                   0\n",
       "income                0\n",
       "family_members        0\n",
       "insurance_benefits    0\n",
       "dtype: int64"
      ]
     },
     "execution_count": 10,
     "metadata": {},
     "output_type": "execute_result"
    }
   ],
   "source": [
    "df.isnull().sum()"
   ]
  },
  {
   "cell_type": "code",
   "execution_count": 11,
   "metadata": {},
   "outputs": [],
   "source": [
    "features = df.drop(columns='insurance_benefits')\n",
    "target = df['insurance_benefits']"
   ]
  },
  {
   "cell_type": "code",
   "execution_count": 12,
   "metadata": {
    "scrolled": false
   },
   "outputs": [
    {
     "data": {
      "image/png": "[encoded data removed]",
      "text/plain": [
       "<Figure size 1250x1250 with 30 Axes>"
      ]
     },
     "metadata": {},
     "output_type": "display_data"
    }
   ],
   "source": [
    "sns.pairplot(df)\n",
    "plt.show()"
   ]
  },
  {
   "cell_type": "markdown",
   "metadata": {},
   "source": [
    "Let's quickly check whether there are certain groups of customers by looking at the pair plot."
   ]
  },
  {
   "cell_type": "code",
   "execution_count": 13,
   "metadata": {},
   "outputs": [
    {
     "data": {
      "image/png": "[encoded data removed]",
      "text/plain": [
       "<Figure size 1200x1200 with 30 Axes>"
      ]
     },
     "metadata": {},
     "output_type": "display_data"
    }
   ],
   "source": [
    "g = sns.pairplot(df, kind='hist')\n",
    "g.fig.set_size_inches(12, 12)"
   ]
  },
  {
   "cell_type": "markdown",
   "metadata": {},
   "source": [
    "Ok, it is a bit difficult to spot obvious groups (clusters) as it is difficult to combine several variables simultaneously (to analyze multivariate distributions). That's where LA and ML can be quite handy."
   ]
  },
  {
   "cell_type": "markdown",
   "metadata": {},
   "source": [
    "The initial exploratory analysis and preprocessing steps provided valuable insights into the dataset. We confirmed that the data required renaming of columns, type casting, and minimal cleaning (e.g., handling duplicates and checking for missing values) before model development. This phase laid a robust foundation, ensuring that subsequent analyses were based on accurate and well-understood data."
   ]
  },
  {
   "cell_type": "markdown",
   "metadata": {},
   "source": [
    "# Task 1. Similar Customers"
   ]
  },
  {
   "cell_type": "markdown",
   "metadata": {},
   "source": [
    "In the language of ML, it is necessary to develop a procedure that returns k nearest neighbors (objects) for a given object based on the distance between the objects.\n",
    "\n",
    "You may want to review the following lessons (chapter -> lesson)\n",
    "- Distance Between Vectors -> Euclidean Distance\n",
    "- Distance Between Vectors -> Manhattan Distance\n",
    "\n",
    "To solve the task, we can try different distance metrics."
   ]
  },
  {
   "cell_type": "markdown",
   "metadata": {},
   "source": [
    "Write a function that returns k nearest neighbors for an $n^{th}$ object based on a specified distance metric. The number of received insurance benefits should not be taken into account for this task. \n",
    "\n",
    "You can use a ready implementation of the kNN algorithm from scikit-learn (check [the link](https://scikit-learn.org/stable/modules/generated/sklearn.neighbors.NearestNeighbors.html#sklearn.neighbors.NearestNeighbors)) or use your own.\n",
    "\n",
    "Test it for four combination of two cases\n",
    "- Scaling\n",
    "  - the data is not scaled\n",
    "  - the data is scaled with the [MaxAbsScaler](https://scikit-learn.org/stable/modules/generated/sklearn.preprocessing.MaxAbsScaler.html) scaler\n",
    "- Distance Metrics\n",
    "  - Euclidean\n",
    "  - Manhattan\n",
    "\n",
    "Answer these questions:\n",
    "- Does the data being not scaled affect the kNN algorithm? If so, how does that appear?\n",
    "- How similar are the results using the Manhattan distance metric (regardless of the scaling)?"
   ]
  },
  {
   "cell_type": "code",
   "execution_count": 14,
   "metadata": {},
   "outputs": [],
   "source": [
    "def get_knn(df, n, k, metric):\n",
    "    \n",
    "    \"\"\"\n",
    "    Returns k nearest neighbors\n",
    "\n",
    "    :param df: pandas DataFrame used to find similar objects within\n",
    "    :param n: object no for which the nearest neighbours are looked for\n",
    "    :param k: the number of the nearest neighbours to return\n",
    "    :param metric: name of distance metric\n",
    "    \"\"\"\n",
    "\n",
    "    nbrs = NearestNeighbors(n_neighbors=k+1, metric=metric)\n",
    "    nbrs.fit(df[feature_names])\n",
    "    nbrs_distances, nbrs_indices = nbrs.kneighbors([df.iloc[n][feature_names]], return_distance=True)\n",
    "\n",
    "    df_res = pd.concat([\n",
    "        df.iloc[nbrs_indices[0][1:]],\n",
    "        pd.DataFrame(nbrs_distances[0][1:], index=nbrs_indices[0][1:], columns=['distance'])\n",
    "    ], axis=1)\n",
    "\n",
    "    return df_res\n",
    "def get_k_similar_customers(index, k, metric='euclidean'):\n",
    "    from sklearn.metrics import pairwise_distances\n",
    "\n",
    "    X = features.values  # assumes features is already scaled or intentionally unscaled\n",
    "    distances = pairwise_distances([X[index]], X, metric=metric)[0]\n",
    "    indices = np.argsort(distances)\n",
    "    similar_indices = indices[1:k+1]\n",
    "    return similar_indices"
   ]
  },
  {
   "cell_type": "markdown",
   "metadata": {},
   "source": [
    "Scaling the data."
   ]
  },
  {
   "cell_type": "code",
   "execution_count": 15,
   "metadata": {},
   "outputs": [],
   "source": [
    "feature_names = ['gender', 'age', 'income', 'family_members']\n",
    "\n",
    "transformer_mas = sklearn.preprocessing.MaxAbsScaler().fit(df[feature_names].to_numpy())\n",
    "\n",
    "df_scaled = df.copy()\n",
    "df_scaled.loc[:, feature_names] = transformer_mas.transform(df[feature_names].to_numpy())"
   ]
  },
  {
   "cell_type": "code",
   "execution_count": 16,
   "metadata": {},
   "outputs": [
    {
     "data": {
      "text/html": [
       "<div>\n",
       "<style scoped>\n",
       "    .dataframe tbody tr th:only-of-type {\n",
       "        vertical-align: middle;\n",
       "    }\n",
       "\n",
       "    .dataframe tbody tr th {\n",
       "        vertical-align: top;\n",
       "    }\n",
       "\n",
       "    .dataframe thead th {\n",
       "        text-align: right;\n",
       "    }\n",
       "</style>\n",
       "<table border=\"1\" class=\"dataframe\">\n",
       "  <thead>\n",
       "    <tr style=\"text-align: right;\">\n",
       "      <th></th>\n",
       "      <th>gender</th>\n",
       "      <th>age</th>\n",
       "      <th>income</th>\n",
       "      <th>family_members</th>\n",
       "      <th>insurance_benefits</th>\n",
       "    </tr>\n",
       "  </thead>\n",
       "  <tbody>\n",
       "    <tr>\n",
       "      <th>829</th>\n",
       "      <td>0.0</td>\n",
       "      <td>0.323077</td>\n",
       "      <td>0.450633</td>\n",
       "      <td>0.333333</td>\n",
       "      <td>0</td>\n",
       "    </tr>\n",
       "    <tr>\n",
       "      <th>4833</th>\n",
       "      <td>0.0</td>\n",
       "      <td>0.369231</td>\n",
       "      <td>0.407595</td>\n",
       "      <td>0.166667</td>\n",
       "      <td>0</td>\n",
       "    </tr>\n",
       "    <tr>\n",
       "      <th>2731</th>\n",
       "      <td>1.0</td>\n",
       "      <td>0.292308</td>\n",
       "      <td>0.306329</td>\n",
       "      <td>0.500000</td>\n",
       "      <td>0</td>\n",
       "    </tr>\n",
       "    <tr>\n",
       "      <th>915</th>\n",
       "      <td>0.0</td>\n",
       "      <td>0.553846</td>\n",
       "      <td>0.732911</td>\n",
       "      <td>0.500000</td>\n",
       "      <td>0</td>\n",
       "    </tr>\n",
       "    <tr>\n",
       "      <th>2885</th>\n",
       "      <td>1.0</td>\n",
       "      <td>0.415385</td>\n",
       "      <td>0.730380</td>\n",
       "      <td>0.166667</td>\n",
       "      <td>0</td>\n",
       "    </tr>\n",
       "  </tbody>\n",
       "</table>\n",
       "</div>"
      ],
      "text/plain": [
       "      gender       age    income  family_members  insurance_benefits\n",
       "829      0.0  0.323077  0.450633        0.333333                   0\n",
       "4833     0.0  0.369231  0.407595        0.166667                   0\n",
       "2731     1.0  0.292308  0.306329        0.500000                   0\n",
       "915      0.0  0.553846  0.732911        0.500000                   0\n",
       "2885     1.0  0.415385  0.730380        0.166667                   0"
      ]
     },
     "execution_count": 16,
     "metadata": {},
     "output_type": "execute_result"
    }
   ],
   "source": [
    "df_scaled.sample(5)"
   ]
  },
  {
   "cell_type": "markdown",
   "metadata": {},
   "source": [
    "Now, let's get similar records for a given one for every combination"
   ]
  },
  {
   "cell_type": "code",
   "execution_count": 17,
   "metadata": {
    "scrolled": false
   },
   "outputs": [
    {
     "name": "stdout",
     "output_type": "stream",
     "text": [
      "\n",
      "Metric: euclidean | Scaled: True\n",
      "Using get_knn():\n"
     ]
    },
    {
     "data": {
      "text/html": [
       "<div>\n",
       "<style scoped>\n",
       "    .dataframe tbody tr th:only-of-type {\n",
       "        vertical-align: middle;\n",
       "    }\n",
       "\n",
       "    .dataframe tbody tr th {\n",
       "        vertical-align: top;\n",
       "    }\n",
       "\n",
       "    .dataframe thead th {\n",
       "        text-align: right;\n",
       "    }\n",
       "</style>\n",
       "<table border=\"1\" class=\"dataframe\">\n",
       "  <thead>\n",
       "    <tr style=\"text-align: right;\">\n",
       "      <th></th>\n",
       "      <th>gender</th>\n",
       "      <th>age</th>\n",
       "      <th>income</th>\n",
       "      <th>family_members</th>\n",
       "      <th>insurance_benefits</th>\n",
       "      <th>distance</th>\n",
       "    </tr>\n",
       "  </thead>\n",
       "  <tbody>\n",
       "    <tr>\n",
       "      <th>2689</th>\n",
       "      <td>1.0</td>\n",
       "      <td>0.630769</td>\n",
       "      <td>0.634177</td>\n",
       "      <td>0.166667</td>\n",
       "      <td>0</td>\n",
       "      <td>0.006329</td>\n",
       "    </tr>\n",
       "    <tr>\n",
       "      <th>133</th>\n",
       "      <td>1.0</td>\n",
       "      <td>0.615385</td>\n",
       "      <td>0.636709</td>\n",
       "      <td>0.166667</td>\n",
       "      <td>0</td>\n",
       "      <td>0.017754</td>\n",
       "    </tr>\n",
       "    <tr>\n",
       "      <th>4869</th>\n",
       "      <td>1.0</td>\n",
       "      <td>0.646154</td>\n",
       "      <td>0.637975</td>\n",
       "      <td>0.166667</td>\n",
       "      <td>1</td>\n",
       "      <td>0.018418</td>\n",
       "    </tr>\n",
       "    <tr>\n",
       "      <th>3275</th>\n",
       "      <td>1.0</td>\n",
       "      <td>0.646154</td>\n",
       "      <td>0.651899</td>\n",
       "      <td>0.166667</td>\n",
       "      <td>1</td>\n",
       "      <td>0.028550</td>\n",
       "    </tr>\n",
       "    <tr>\n",
       "      <th>1567</th>\n",
       "      <td>1.0</td>\n",
       "      <td>0.615385</td>\n",
       "      <td>0.602532</td>\n",
       "      <td>0.166667</td>\n",
       "      <td>0</td>\n",
       "      <td>0.029624</td>\n",
       "    </tr>\n",
       "  </tbody>\n",
       "</table>\n",
       "</div>"
      ],
      "text/plain": [
       "      gender       age    income  family_members  insurance_benefits  distance\n",
       "2689     1.0  0.630769  0.634177        0.166667                   0  0.006329\n",
       "133      1.0  0.615385  0.636709        0.166667                   0  0.017754\n",
       "4869     1.0  0.646154  0.637975        0.166667                   1  0.018418\n",
       "3275     1.0  0.646154  0.651899        0.166667                   1  0.028550\n",
       "1567     1.0  0.615385  0.602532        0.166667                   0  0.029624"
      ]
     },
     "metadata": {},
     "output_type": "display_data"
    },
    {
     "name": "stdout",
     "output_type": "stream",
     "text": [
      "\n",
      "Metric: euclidean | Scaled: False\n",
      "Using get_knn():\n"
     ]
    },
    {
     "data": {
      "text/html": [
       "<div>\n",
       "<style scoped>\n",
       "    .dataframe tbody tr th:only-of-type {\n",
       "        vertical-align: middle;\n",
       "    }\n",
       "\n",
       "    .dataframe tbody tr th {\n",
       "        vertical-align: top;\n",
       "    }\n",
       "\n",
       "    .dataframe thead th {\n",
       "        text-align: right;\n",
       "    }\n",
       "</style>\n",
       "<table border=\"1\" class=\"dataframe\">\n",
       "  <thead>\n",
       "    <tr style=\"text-align: right;\">\n",
       "      <th></th>\n",
       "      <th>gender</th>\n",
       "      <th>age</th>\n",
       "      <th>income</th>\n",
       "      <th>family_members</th>\n",
       "      <th>insurance_benefits</th>\n",
       "      <th>distance</th>\n",
       "    </tr>\n",
       "  </thead>\n",
       "  <tbody>\n",
       "    <tr>\n",
       "      <th>2022</th>\n",
       "      <td>1</td>\n",
       "      <td>41</td>\n",
       "      <td>49600.0</td>\n",
       "      <td>0</td>\n",
       "      <td>0</td>\n",
       "      <td>1.000000</td>\n",
       "    </tr>\n",
       "    <tr>\n",
       "      <th>1225</th>\n",
       "      <td>0</td>\n",
       "      <td>42</td>\n",
       "      <td>49600.0</td>\n",
       "      <td>0</td>\n",
       "      <td>1</td>\n",
       "      <td>1.732051</td>\n",
       "    </tr>\n",
       "    <tr>\n",
       "      <th>4031</th>\n",
       "      <td>1</td>\n",
       "      <td>44</td>\n",
       "      <td>49600.0</td>\n",
       "      <td>2</td>\n",
       "      <td>1</td>\n",
       "      <td>3.162278</td>\n",
       "    </tr>\n",
       "    <tr>\n",
       "      <th>3424</th>\n",
       "      <td>0</td>\n",
       "      <td>38</td>\n",
       "      <td>49600.0</td>\n",
       "      <td>0</td>\n",
       "      <td>0</td>\n",
       "      <td>3.316625</td>\n",
       "    </tr>\n",
       "    <tr>\n",
       "      <th>815</th>\n",
       "      <td>1</td>\n",
       "      <td>37</td>\n",
       "      <td>49600.0</td>\n",
       "      <td>2</td>\n",
       "      <td>0</td>\n",
       "      <td>4.123106</td>\n",
       "    </tr>\n",
       "  </tbody>\n",
       "</table>\n",
       "</div>"
      ],
      "text/plain": [
       "      gender  age   income  family_members  insurance_benefits  distance\n",
       "2022       1   41  49600.0               0                   0  1.000000\n",
       "1225       0   42  49600.0               0                   1  1.732051\n",
       "4031       1   44  49600.0               2                   1  3.162278\n",
       "3424       0   38  49600.0               0                   0  3.316625\n",
       "815        1   37  49600.0               2                   0  4.123106"
      ]
     },
     "metadata": {},
     "output_type": "display_data"
    },
    {
     "name": "stdout",
     "output_type": "stream",
     "text": [
      "\n",
      "Metric: manhattan | Scaled: True\n",
      "Using get_knn():\n"
     ]
    },
    {
     "data": {
      "text/html": [
       "<div>\n",
       "<style scoped>\n",
       "    .dataframe tbody tr th:only-of-type {\n",
       "        vertical-align: middle;\n",
       "    }\n",
       "\n",
       "    .dataframe tbody tr th {\n",
       "        vertical-align: top;\n",
       "    }\n",
       "\n",
       "    .dataframe thead th {\n",
       "        text-align: right;\n",
       "    }\n",
       "</style>\n",
       "<table border=\"1\" class=\"dataframe\">\n",
       "  <thead>\n",
       "    <tr style=\"text-align: right;\">\n",
       "      <th></th>\n",
       "      <th>gender</th>\n",
       "      <th>age</th>\n",
       "      <th>income</th>\n",
       "      <th>family_members</th>\n",
       "      <th>insurance_benefits</th>\n",
       "      <th>distance</th>\n",
       "    </tr>\n",
       "  </thead>\n",
       "  <tbody>\n",
       "    <tr>\n",
       "      <th>2689</th>\n",
       "      <td>1.0</td>\n",
       "      <td>0.630769</td>\n",
       "      <td>0.634177</td>\n",
       "      <td>0.166667</td>\n",
       "      <td>0</td>\n",
       "      <td>0.006329</td>\n",
       "    </tr>\n",
       "    <tr>\n",
       "      <th>133</th>\n",
       "      <td>1.0</td>\n",
       "      <td>0.615385</td>\n",
       "      <td>0.636709</td>\n",
       "      <td>0.166667</td>\n",
       "      <td>0</td>\n",
       "      <td>0.024245</td>\n",
       "    </tr>\n",
       "    <tr>\n",
       "      <th>4869</th>\n",
       "      <td>1.0</td>\n",
       "      <td>0.646154</td>\n",
       "      <td>0.637975</td>\n",
       "      <td>0.166667</td>\n",
       "      <td>1</td>\n",
       "      <td>0.025511</td>\n",
       "    </tr>\n",
       "    <tr>\n",
       "      <th>2103</th>\n",
       "      <td>1.0</td>\n",
       "      <td>0.630769</td>\n",
       "      <td>0.596203</td>\n",
       "      <td>0.166667</td>\n",
       "      <td>0</td>\n",
       "      <td>0.031646</td>\n",
       "    </tr>\n",
       "    <tr>\n",
       "      <th>3365</th>\n",
       "      <td>1.0</td>\n",
       "      <td>0.630769</td>\n",
       "      <td>0.596203</td>\n",
       "      <td>0.166667</td>\n",
       "      <td>0</td>\n",
       "      <td>0.031646</td>\n",
       "    </tr>\n",
       "  </tbody>\n",
       "</table>\n",
       "</div>"
      ],
      "text/plain": [
       "      gender       age    income  family_members  insurance_benefits  distance\n",
       "2689     1.0  0.630769  0.634177        0.166667                   0  0.006329\n",
       "133      1.0  0.615385  0.636709        0.166667                   0  0.024245\n",
       "4869     1.0  0.646154  0.637975        0.166667                   1  0.025511\n",
       "2103     1.0  0.630769  0.596203        0.166667                   0  0.031646\n",
       "3365     1.0  0.630769  0.596203        0.166667                   0  0.031646"
      ]
     },
     "metadata": {},
     "output_type": "display_data"
    },
    {
     "name": "stdout",
     "output_type": "stream",
     "text": [
      "\n",
      "Metric: manhattan | Scaled: False\n",
      "Using get_knn():\n"
     ]
    },
    {
     "data": {
      "text/html": [
       "<div>\n",
       "<style scoped>\n",
       "    .dataframe tbody tr th:only-of-type {\n",
       "        vertical-align: middle;\n",
       "    }\n",
       "\n",
       "    .dataframe tbody tr th {\n",
       "        vertical-align: top;\n",
       "    }\n",
       "\n",
       "    .dataframe thead th {\n",
       "        text-align: right;\n",
       "    }\n",
       "</style>\n",
       "<table border=\"1\" class=\"dataframe\">\n",
       "  <thead>\n",
       "    <tr style=\"text-align: right;\">\n",
       "      <th></th>\n",
       "      <th>gender</th>\n",
       "      <th>age</th>\n",
       "      <th>income</th>\n",
       "      <th>family_members</th>\n",
       "      <th>insurance_benefits</th>\n",
       "      <th>distance</th>\n",
       "    </tr>\n",
       "  </thead>\n",
       "  <tbody>\n",
       "    <tr>\n",
       "      <th>2022</th>\n",
       "      <td>1</td>\n",
       "      <td>41</td>\n",
       "      <td>49600.0</td>\n",
       "      <td>0</td>\n",
       "      <td>0</td>\n",
       "      <td>1.0</td>\n",
       "    </tr>\n",
       "    <tr>\n",
       "      <th>1225</th>\n",
       "      <td>0</td>\n",
       "      <td>42</td>\n",
       "      <td>49600.0</td>\n",
       "      <td>0</td>\n",
       "      <td>1</td>\n",
       "      <td>3.0</td>\n",
       "    </tr>\n",
       "    <tr>\n",
       "      <th>4031</th>\n",
       "      <td>1</td>\n",
       "      <td>44</td>\n",
       "      <td>49600.0</td>\n",
       "      <td>2</td>\n",
       "      <td>1</td>\n",
       "      <td>4.0</td>\n",
       "    </tr>\n",
       "    <tr>\n",
       "      <th>3424</th>\n",
       "      <td>0</td>\n",
       "      <td>38</td>\n",
       "      <td>49600.0</td>\n",
       "      <td>0</td>\n",
       "      <td>0</td>\n",
       "      <td>5.0</td>\n",
       "    </tr>\n",
       "    <tr>\n",
       "      <th>815</th>\n",
       "      <td>1</td>\n",
       "      <td>37</td>\n",
       "      <td>49600.0</td>\n",
       "      <td>2</td>\n",
       "      <td>0</td>\n",
       "      <td>5.0</td>\n",
       "    </tr>\n",
       "  </tbody>\n",
       "</table>\n",
       "</div>"
      ],
      "text/plain": [
       "      gender  age   income  family_members  insurance_benefits  distance\n",
       "2022       1   41  49600.0               0                   0       1.0\n",
       "1225       0   42  49600.0               0                   1       3.0\n",
       "4031       1   44  49600.0               2                   1       4.0\n",
       "3424       0   38  49600.0               0                   0       5.0\n",
       "815        1   37  49600.0               2                   0       5.0"
      ]
     },
     "metadata": {},
     "output_type": "display_data"
    },
    {
     "name": "stdout",
     "output_type": "stream",
     "text": [
      "\n",
      "Metric: cosine | Scaled: True\n",
      "Using get_knn():\n"
     ]
    },
    {
     "data": {
      "text/html": [
       "<div>\n",
       "<style scoped>\n",
       "    .dataframe tbody tr th:only-of-type {\n",
       "        vertical-align: middle;\n",
       "    }\n",
       "\n",
       "    .dataframe tbody tr th {\n",
       "        vertical-align: top;\n",
       "    }\n",
       "\n",
       "    .dataframe thead th {\n",
       "        text-align: right;\n",
       "    }\n",
       "</style>\n",
       "<table border=\"1\" class=\"dataframe\">\n",
       "  <thead>\n",
       "    <tr style=\"text-align: right;\">\n",
       "      <th></th>\n",
       "      <th>gender</th>\n",
       "      <th>age</th>\n",
       "      <th>income</th>\n",
       "      <th>family_members</th>\n",
       "      <th>insurance_benefits</th>\n",
       "      <th>distance</th>\n",
       "    </tr>\n",
       "  </thead>\n",
       "  <tbody>\n",
       "    <tr>\n",
       "      <th>2689</th>\n",
       "      <td>1.0</td>\n",
       "      <td>0.630769</td>\n",
       "      <td>0.634177</td>\n",
       "      <td>0.166667</td>\n",
       "      <td>0</td>\n",
       "      <td>0.000009</td>\n",
       "    </tr>\n",
       "    <tr>\n",
       "      <th>4869</th>\n",
       "      <td>1.0</td>\n",
       "      <td>0.646154</td>\n",
       "      <td>0.637975</td>\n",
       "      <td>0.166667</td>\n",
       "      <td>1</td>\n",
       "      <td>0.000053</td>\n",
       "    </tr>\n",
       "    <tr>\n",
       "      <th>133</th>\n",
       "      <td>1.0</td>\n",
       "      <td>0.615385</td>\n",
       "      <td>0.636709</td>\n",
       "      <td>0.166667</td>\n",
       "      <td>0</td>\n",
       "      <td>0.000084</td>\n",
       "    </tr>\n",
       "    <tr>\n",
       "      <th>3275</th>\n",
       "      <td>1.0</td>\n",
       "      <td>0.646154</td>\n",
       "      <td>0.651899</td>\n",
       "      <td>0.166667</td>\n",
       "      <td>1</td>\n",
       "      <td>0.000128</td>\n",
       "    </tr>\n",
       "    <tr>\n",
       "      <th>1567</th>\n",
       "      <td>1.0</td>\n",
       "      <td>0.615385</td>\n",
       "      <td>0.602532</td>\n",
       "      <td>0.166667</td>\n",
       "      <td>0</td>\n",
       "      <td>0.000146</td>\n",
       "    </tr>\n",
       "  </tbody>\n",
       "</table>\n",
       "</div>"
      ],
      "text/plain": [
       "      gender       age    income  family_members  insurance_benefits  distance\n",
       "2689     1.0  0.630769  0.634177        0.166667                   0  0.000009\n",
       "4869     1.0  0.646154  0.637975        0.166667                   1  0.000053\n",
       "133      1.0  0.615385  0.636709        0.166667                   0  0.000084\n",
       "3275     1.0  0.646154  0.651899        0.166667                   1  0.000128\n",
       "1567     1.0  0.615385  0.602532        0.166667                   0  0.000146"
      ]
     },
     "metadata": {},
     "output_type": "display_data"
    },
    {
     "name": "stdout",
     "output_type": "stream",
     "text": [
      "\n",
      "Metric: cosine | Scaled: False\n",
      "Using get_knn():\n"
     ]
    },
    {
     "data": {
      "text/html": [
       "<div>\n",
       "<style scoped>\n",
       "    .dataframe tbody tr th:only-of-type {\n",
       "        vertical-align: middle;\n",
       "    }\n",
       "\n",
       "    .dataframe tbody tr th {\n",
       "        vertical-align: top;\n",
       "    }\n",
       "\n",
       "    .dataframe thead th {\n",
       "        text-align: right;\n",
       "    }\n",
       "</style>\n",
       "<table border=\"1\" class=\"dataframe\">\n",
       "  <thead>\n",
       "    <tr style=\"text-align: right;\">\n",
       "      <th></th>\n",
       "      <th>gender</th>\n",
       "      <th>age</th>\n",
       "      <th>income</th>\n",
       "      <th>family_members</th>\n",
       "      <th>insurance_benefits</th>\n",
       "      <th>distance</th>\n",
       "    </tr>\n",
       "  </thead>\n",
       "  <tbody>\n",
       "    <tr>\n",
       "      <th>3113</th>\n",
       "      <td>1</td>\n",
       "      <td>39</td>\n",
       "      <td>47100.0</td>\n",
       "      <td>1</td>\n",
       "      <td>0</td>\n",
       "      <td>2.142952e-12</td>\n",
       "    </tr>\n",
       "    <tr>\n",
       "      <th>3971</th>\n",
       "      <td>1</td>\n",
       "      <td>44</td>\n",
       "      <td>53000.0</td>\n",
       "      <td>1</td>\n",
       "      <td>1</td>\n",
       "      <td>8.065881e-12</td>\n",
       "    </tr>\n",
       "    <tr>\n",
       "      <th>4219</th>\n",
       "      <td>1</td>\n",
       "      <td>36</td>\n",
       "      <td>43500.0</td>\n",
       "      <td>1</td>\n",
       "      <td>0</td>\n",
       "      <td>8.466783e-12</td>\n",
       "    </tr>\n",
       "    <tr>\n",
       "      <th>2309</th>\n",
       "      <td>1</td>\n",
       "      <td>36</td>\n",
       "      <td>43500.0</td>\n",
       "      <td>1</td>\n",
       "      <td>0</td>\n",
       "      <td>8.466783e-12</td>\n",
       "    </tr>\n",
       "    <tr>\n",
       "      <th>2976</th>\n",
       "      <td>1</td>\n",
       "      <td>35</td>\n",
       "      <td>42300.0</td>\n",
       "      <td>1</td>\n",
       "      <td>0</td>\n",
       "      <td>1.243428e-11</td>\n",
       "    </tr>\n",
       "  </tbody>\n",
       "</table>\n",
       "</div>"
      ],
      "text/plain": [
       "      gender  age   income  family_members  insurance_benefits      distance\n",
       "3113       1   39  47100.0               1                   0  2.142952e-12\n",
       "3971       1   44  53000.0               1                   1  8.065881e-12\n",
       "4219       1   36  43500.0               1                   0  8.466783e-12\n",
       "2309       1   36  43500.0               1                   0  8.466783e-12\n",
       "2976       1   35  42300.0               1                   0  1.243428e-11"
      ]
     },
     "metadata": {},
     "output_type": "display_data"
    }
   ],
   "source": [
    "metrics = ['euclidean', 'manhattan', 'cosine']\n",
    "scaling_options = [True, False]\n",
    "k = 5  \n",
    "sample_index = 0 \n",
    "\n",
    "for metric in metrics:\n",
    "    for scale in scaling_options:\n",
    "        print(f\"\\nMetric: {metric} | Scaled: {scale}\")\n",
    "        \n",
    "        current_df = df_scaled if scale else df\n",
    "\n",
    "        print(\"Using get_knn():\")\n",
    "        try:\n",
    "            knn_results = get_knn(current_df, sample_index, k, metric)\n",
    "            display(knn_results)\n",
    "        except Exception as e:\n",
    "            print(f\"get_knn failed: {e}\")"
   ]
  },
  {
   "cell_type": "code",
   "execution_count": 18,
   "metadata": {},
   "outputs": [
    {
     "data": {
      "text/html": [
       "<div>\n",
       "<style scoped>\n",
       "    .dataframe tbody tr th:only-of-type {\n",
       "        vertical-align: middle;\n",
       "    }\n",
       "\n",
       "    .dataframe tbody tr th {\n",
       "        vertical-align: top;\n",
       "    }\n",
       "\n",
       "    .dataframe thead th {\n",
       "        text-align: right;\n",
       "    }\n",
       "</style>\n",
       "<table border=\"1\" class=\"dataframe\">\n",
       "  <thead>\n",
       "    <tr style=\"text-align: right;\">\n",
       "      <th></th>\n",
       "      <th>Raw indices</th>\n",
       "      <th>Scaled indices</th>\n",
       "      <th>Same</th>\n",
       "    </tr>\n",
       "  </thead>\n",
       "  <tbody>\n",
       "    <tr>\n",
       "      <th>0</th>\n",
       "      <td>2022</td>\n",
       "      <td>2689</td>\n",
       "      <td>False</td>\n",
       "    </tr>\n",
       "    <tr>\n",
       "      <th>1</th>\n",
       "      <td>1225</td>\n",
       "      <td>133</td>\n",
       "      <td>False</td>\n",
       "    </tr>\n",
       "    <tr>\n",
       "      <th>2</th>\n",
       "      <td>4031</td>\n",
       "      <td>4869</td>\n",
       "      <td>False</td>\n",
       "    </tr>\n",
       "    <tr>\n",
       "      <th>3</th>\n",
       "      <td>3424</td>\n",
       "      <td>2103</td>\n",
       "      <td>False</td>\n",
       "    </tr>\n",
       "    <tr>\n",
       "      <th>4</th>\n",
       "      <td>815</td>\n",
       "      <td>3365</td>\n",
       "      <td>False</td>\n",
       "    </tr>\n",
       "  </tbody>\n",
       "</table>\n",
       "</div>"
      ],
      "text/plain": [
       "   Raw indices  Scaled indices   Same\n",
       "0         2022            2689  False\n",
       "1         1225             133  False\n",
       "2         4031            4869  False\n",
       "3         3424            2103  False\n",
       "4          815            3365  False"
      ]
     },
     "execution_count": 18,
     "metadata": {},
     "output_type": "execute_result"
    }
   ],
   "source": [
    "k = 5\n",
    "sample_index = 0\n",
    "\n",
    "raw_knn_df = get_knn(df, sample_index, k, metric='manhattan')\n",
    "scaled_knn_df = get_knn(df_scaled, sample_index, k, metric='manhattan')\n",
    "\n",
    "raw_indices = raw_knn_df.index.tolist()\n",
    "scaled_indices = scaled_knn_df.index.tolist()\n",
    "\n",
    "similarity_summary = pd.DataFrame({\n",
    "    \"Raw indices\": raw_indices,\n",
    "    \"Scaled indices\": scaled_indices\n",
    "})\n",
    "similarity_summary[\"Same\"] = similarity_summary[\"Raw indices\"] == similarity_summary[\"Scaled indices\"]\n",
    "\n",
    "similarity_summary\n"
   ]
  },
  {
   "cell_type": "markdown",
   "metadata": {},
   "source": [
    "Answers to the questions"
   ]
  },
  {
   "cell_type": "markdown",
   "metadata": {},
   "source": [
    "**Does the data being not scaled affect the kNN algorithm? If so, how does that appear?** \n",
    "\n",
    "Yes, scaling matters for kNN because it uses distance to find neighbors. If some features have much bigger numbers than others (like income vs. age), they can overpower the rest. This can lead to wrong neighbor choices and lower accuracy. Scaling makes sure all features are treated equally, so the model works better."
   ]
  },
  {
   "cell_type": "markdown",
   "metadata": {},
   "source": [
    "**How similar are the results using the Manhattan distance metric (regardless of the scaling)?** \n",
    "\n",
    "When using Manhattan distance, the top 5 neighbors were totally different with and without scaling. This means scaling really changes how kNN picks similar records. Without scaling, big numbers like income have more impact. With scaling, all features are treated more equally, so the results change a lot. That's why scaling is important for kNN."
   ]
  },
  {
   "cell_type": "markdown",
   "metadata": {},
   "source": [
    "# Task 2. Is Customer Likely to Receive Insurance Benefit?"
   ]
  },
  {
   "cell_type": "markdown",
   "metadata": {},
   "source": [
    "In terms of machine learning we can look at this like a binary classification task."
   ]
  },
  {
   "cell_type": "markdown",
   "metadata": {},
   "source": [
    "With `insurance_benefits` being more than zero as the target, evaluate whether the kNN classification approach can do better than a dummy model.\n",
    "\n",
    "Instructions:\n",
    "- Build a KNN-based classifier and measure its quality with the F1 metric for k=1..10 for both the original data and the scaled one. That'd be interesting to see how k may influece the evaluation metric, and whether scaling the data makes any difference. You can use a ready implemention of the kNN classification algorithm from scikit-learn (check [the link](https://scikit-learn.org/stable/modules/generated/sklearn.neighbors.KNeighborsClassifier.html)) or use your own.\n",
    "- Build the dummy model which is just random for this case. It should return \"1\" with some probability. Let's test the model with four probability values: 0, the probability of paying any insurance benefit, 0.5, 1.\n",
    "\n",
    "The probability of paying any insurance benefit can be defined as\n",
    "\n",
    "$$\n",
    "P\\{\\text{insurance benefit received}\\}=\\frac{\\text{number of clients received any insurance benefit}}{\\text{total number of clients}}.\n",
    "$$\n",
    "\n",
    "Split the whole data in the 70:30 proportion for the training/testing parts."
   ]
  },
  {
   "cell_type": "code",
   "execution_count": 19,
   "metadata": {},
   "outputs": [],
   "source": [
    "df['insurance_benefits_received'] = (df['insurance_benefits'] > 0).astype(int)"
   ]
  },
  {
   "cell_type": "code",
   "execution_count": 20,
   "metadata": {},
   "outputs": [],
   "source": [
    "class_counts = df['insurance_benefits_received'].value_counts(normalize=False)\n",
    "class_proportions = df['insurance_benefits_received'].value_counts(normalize=True)\n",
    "\n",
    "class_distribution = pd.DataFrame({\n",
    "    'Count': class_counts,\n",
    "    'Proportion': class_proportions\n",
    "})"
   ]
  },
  {
   "cell_type": "code",
   "execution_count": 21,
   "metadata": {},
   "outputs": [],
   "source": [
    "def eval_classifier(y_true, y_pred):\n",
    "    \n",
    "    f1_score = sklearn.metrics.f1_score(y_true, y_pred)\n",
    "    print(f'F1: {f1_score:.2f}')\n",
    "    \n",
    "# if you have an issue with the following line, restart the kernel and run the notebook again\n",
    "    cm = sklearn.metrics.confusion_matrix(y_true, y_pred, normalize='all')\n",
    "    print('Confusion Matrix')\n",
    "    print(cm)"
   ]
  },
  {
   "cell_type": "code",
   "execution_count": 22,
   "metadata": {},
   "outputs": [],
   "source": [
    "# generating output of a random model\n",
    "\n",
    "def rnd_model_predict(P, size, seed=42):\n",
    "\n",
    "    rng = np.random.default_rng(seed=seed)\n",
    "    return rng.binomial(n=1, p=P, size=size)"
   ]
  },
  {
   "cell_type": "code",
   "execution_count": 23,
   "metadata": {},
   "outputs": [
    {
     "name": "stdout",
     "output_type": "stream",
     "text": [
      "The probability: 0.00\n",
      "F1: 0.00\n",
      "Confusion Matrix\n",
      "[[0.8872 0.    ]\n",
      " [0.1128 0.    ]]\n",
      "\n",
      "The probability: 0.11\n",
      "F1: 0.12\n",
      "Confusion Matrix\n",
      "[[0.7904 0.0968]\n",
      " [0.0994 0.0134]]\n",
      "\n",
      "The probability: 0.50\n",
      "F1: 0.19\n",
      "Confusion Matrix\n",
      "[[0.432  0.4552]\n",
      " [0.0546 0.0582]]\n",
      "\n",
      "The probability: 1.00\n",
      "F1: 0.20\n",
      "Confusion Matrix\n",
      "[[0.     0.8872]\n",
      " [0.     0.1128]]\n",
      "\n"
     ]
    }
   ],
   "source": [
    "for P in [0, df['insurance_benefits_received'].sum() / len(df), 0.5, 1]:\n",
    "\n",
    "    print(f'The probability: {P:.2f}')\n",
    "    y_pred_rnd = np.random.choice([0, 1], size=len(df), p=[1 - P, P])\n",
    "        \n",
    "    eval_classifier(df['insurance_benefits_received'], y_pred_rnd)\n",
    "    \n",
    "    print()"
   ]
  },
  {
   "cell_type": "code",
   "execution_count": 24,
   "metadata": {},
   "outputs": [
    {
     "data": {
      "text/plain": [
       "(    k    F1 Raw  F1 Scaled\n",
       " 0   1  0.652330   0.933333\n",
       " 1   2  0.376238   0.917492\n",
       " 2   3  0.387097   0.935897\n",
       " 3   4  0.155556   0.913333\n",
       " 4   5  0.167539   0.939297\n",
       " 5   6  0.094118   0.913333\n",
       " 6   7  0.115607   0.935484\n",
       " 7   8  0.024540   0.912752\n",
       " 8   9  0.036585   0.934641\n",
       " 9  10  0.036585   0.923588,\n",
       "    Probability  F1 Score\n",
       " 0       0.0000  0.000000\n",
       " 1       0.1128  0.110749\n",
       " 2       0.5000  0.183585\n",
       " 3       1.0000  0.193859)"
      ]
     },
     "execution_count": 24,
     "metadata": {},
     "output_type": "execute_result"
    }
   ],
   "source": [
    "X = df[['gender', 'age', 'income', 'family_members']]\n",
    "y = df['insurance_benefits_received']\n",
    "\n",
    "X_train, X_test, y_train, y_test = train_test_split(X, y, test_size=0.3, random_state=42)\n",
    "\n",
    "scaler = StandardScaler()\n",
    "X_train_scaled = scaler.fit_transform(X_train)\n",
    "X_test_scaled = scaler.transform(X_test)\n",
    "\n",
    "knn_results = []\n",
    "\n",
    "for k in range(1, 11):\n",
    "    #Raw\n",
    "    knn_raw = KNeighborsClassifier(n_neighbors=k)\n",
    "    knn_raw.fit(X_train, y_train)\n",
    "    y_pred_raw = knn_raw.predict(X_test)\n",
    "    f1_raw = f1_score(y_test, y_pred_raw)\n",
    "\n",
    "    # Scaled\n",
    "    knn_scaled = KNeighborsClassifier(n_neighbors=k)\n",
    "    knn_scaled.fit(X_train_scaled, y_train)\n",
    "    y_pred_scaled = knn_scaled.predict(X_test_scaled)\n",
    "    f1_scaled = f1_score(y_test, y_pred_scaled)\n",
    "\n",
    "    knn_results.append({\n",
    "        'k': k,\n",
    "        'F1 Raw': f1_raw,\n",
    "        'F1 Scaled': f1_scaled\n",
    "    })\n",
    "\n",
    "knn_results_df = pd.DataFrame(knn_results)\n",
    "\n",
    "# Dummy model simulation for different probabilities\n",
    "benefit_probability = y.mean()\n",
    "probs = [0, benefit_probability, 0.5, 1]\n",
    "dummy_results = []\n",
    "\n",
    "for p in probs:\n",
    "    y_pred_dummy = np.random.choice([0, 1], size=len(y_test), p=[1 - p, p])\n",
    "    f1_dummy = f1_score(y_test, y_pred_dummy)\n",
    "    dummy_results.append({'Probability': p, 'F1 Score': f1_dummy})\n",
    "\n",
    "dummy_results_df = pd.DataFrame(dummy_results)\n",
    "\n",
    "knn_results_df, dummy_results_df"
   ]
  },
  {
   "cell_type": "markdown",
   "metadata": {},
   "source": [
    "In the classification task, we employed a k-Nearest Neighbors (kNN) classifier to predict whether customers would receive any insurance benefits. Comparisons between the original and scaled feature spaces revealed that feature scaling substantially improved model performance, as evidenced by higher F1 scores in the scaled models. Furthermore, benchmarking against dummy classifiers reinforced the effectiveness of our chosen approaches, with kNN markedly outperforming random chance."
   ]
  },
  {
   "cell_type": "markdown",
   "metadata": {},
   "source": [
    "# Task 3. Regression (with Linear Regression)"
   ]
  },
  {
   "cell_type": "markdown",
   "metadata": {},
   "source": [
    "With `insurance_benefits` as the target, evaluate what RMSE would be for a Linear Regression model."
   ]
  },
  {
   "cell_type": "markdown",
   "metadata": {},
   "source": [
    "Build your own implementation of LR. For that, recall how the linear regression task's solution is formulated in terms of LA. Check RMSE for both the original data and the scaled one. Can you see any difference in RMSE between these two cases?\n",
    "\n",
    "Let's denote\n",
    "- $X$ — feature matrix, each row is a case, each column is a feature, the first column consists of unities\n",
    "- $y$ — target (a vector)\n",
    "- $\\hat{y}$ — estimated tagret (a vector)\n",
    "- $w$ — weight vector\n",
    "\n",
    "The task of linear regression in the language of matrices can be formulated as\n",
    "\n",
    "$$\n",
    "y = Xw\n",
    "$$\n",
    "\n",
    "The training objective then is to find such $w$ that it would minimize the L2-distance (MSE) between $Xw$ and $y$:\n",
    "\n",
    "$$\n",
    "\\min_w d_2(Xw, y) \\quad \\text{or} \\quad \\min_w \\text{MSE}(Xw, y)\n",
    "$$\n",
    "\n",
    "It appears that there is analytical solution for the above:\n",
    "\n",
    "$$\n",
    "w = (X^T X)^{-1} X^T y\n",
    "$$\n",
    "\n",
    "The formula above can be used to find the weights $w$ and the latter can be used to calculate predicted values\n",
    "\n",
    "$$\n",
    "\\hat{y} = X_{val}w\n",
    "$$"
   ]
  },
  {
   "cell_type": "markdown",
   "metadata": {},
   "source": [
    "Split the whole data in the 70:30 proportion for the training/validation parts. Use the RMSE metric for the model evaluation."
   ]
  },
  {
   "cell_type": "code",
   "execution_count": 25,
   "metadata": {},
   "outputs": [],
   "source": [
    "class MyLinearRegression:\n",
    "    \n",
    "    def __init__(self):\n",
    "        \n",
    "        self.weights = None\n",
    "    \n",
    "    def fit(self, X, y):\n",
    " \n",
    "        X2 = np.append(np.ones([len(X), 1]), X, axis=1)\n",
    "        self.weights = np.linalg.inv(X2.T @ X2) @ X2.T @ y\n",
    "\n",
    "    def predict(self, X):\n",
    "    \n",
    "        X2 = np.append(np.ones([len(X), 1]), X, axis=1)\n",
    "        y_pred = X2 @ self.weights\n",
    "        \n",
    "        return y_pred"
   ]
  },
  {
   "cell_type": "code",
   "execution_count": 26,
   "metadata": {},
   "outputs": [],
   "source": [
    "def eval_regressor(y_true, y_pred):\n",
    "    \n",
    "    rmse = math.sqrt(sklearn.metrics.mean_squared_error(y_true, y_pred))\n",
    "    print(f'RMSE: {rmse:.2f}')\n",
    "    \n",
    "    r2_score = math.sqrt(sklearn.metrics.r2_score(y_true, y_pred))\n",
    "    print(f'R2: {r2_score:.2f}')    "
   ]
  },
  {
   "cell_type": "code",
   "execution_count": 27,
   "metadata": {},
   "outputs": [
    {
     "name": "stdout",
     "output_type": "stream",
     "text": [
      "[-9.43539012e-01  3.57495491e-02  1.64272726e-02 -2.60743659e-07\n",
      " -1.16902127e-02]\n",
      "RMSE: 0.34\n",
      "R2: 0.66\n"
     ]
    }
   ],
   "source": [
    "X = df[['age', 'gender', 'income', 'family_members']].to_numpy()\n",
    "y = df['insurance_benefits'].to_numpy()\n",
    "\n",
    "X_train, X_test, y_train, y_test = train_test_split(X, y, test_size=0.3, random_state=12345)\n",
    "\n",
    "lr = MyLinearRegression()\n",
    "\n",
    "lr.fit(X_train, y_train)\n",
    "print(lr.weights)\n",
    "\n",
    "y_test_pred = lr.predict(X_test)\n",
    "\n",
    "eval_regressor(y_test, y_test_pred)"
   ]
  },
  {
   "cell_type": "code",
   "execution_count": 28,
   "metadata": {},
   "outputs": [
    {
     "name": "stdout",
     "output_type": "stream",
     "text": [
      "Unscaled Linear Regression\n",
      "Weights: [-9.19740784e-01  1.84735250e-04  3.54081517e-02 -3.89692232e-07\n",
      " -1.37746920e-02]\n",
      "RMSE: 0.36\n",
      "R²: 0.42\n",
      "\n",
      "Scaled Linear Regression\n",
      "Weights: [ 1.44328004e-01  9.23674402e-05  2.98843483e-01 -3.85759985e-03\n",
      " -1.50320100e-02]\n",
      "RMSE: 0.36\n",
      "R²: 0.42\n"
     ]
    }
   ],
   "source": [
    "X = df[['gender', 'age', 'income', 'family_members']].values\n",
    "y = df['insurance_benefits'].values\n",
    "\n",
    "# ---------- Unscaled ----------\n",
    "X_train, X_val, y_train, y_val = train_test_split(X, y, test_size=0.3, random_state=42)\n",
    "\n",
    "lr = MyLinearRegression()\n",
    "lr.fit(X_train, y_train)\n",
    "y_pred = lr.predict(X_val)\n",
    "\n",
    "print(\"Unscaled Linear Regression\")\n",
    "print(\"Weights:\", lr.weights)\n",
    "print(f\"RMSE: {mean_squared_error(y_val, y_pred, squared=False):.2f}\")\n",
    "print(f\"R²: {r2_score(y_val, y_pred):.2f}\\n\")\n",
    "\n",
    "# ---------- Scaled ----------\n",
    "scaler = StandardScaler()\n",
    "X_scaled = scaler.fit_transform(X)\n",
    "\n",
    "X_train_s, X_val_s, y_train_s, y_val_s = train_test_split(X_scaled, y, test_size=0.3, random_state=42)\n",
    "\n",
    "lr_scaled = MyLinearRegression()\n",
    "lr_scaled.fit(X_train_s, y_train_s)\n",
    "y_pred_scaled = lr_scaled.predict(X_val_s)\n",
    "\n",
    "print(\"Scaled Linear Regression\")\n",
    "print(\"Weights:\", lr_scaled.weights)\n",
    "print(f\"RMSE: {mean_squared_error(y_val_s, y_pred_scaled, squared=False):.2f}\")\n",
    "print(f\"R²: {r2_score(y_val_s, y_pred_scaled):.2f}\")"
   ]
  },
  {
   "cell_type": "markdown",
   "metadata": {},
   "source": [
    "For the regression task, we implemented linear regression both using a standard scikit-learn implementation and our own custom approach. The evaluation, based on RMSE and $R^2$ metrics, confirmed that linear regression provided reliable predictions of the insurance benefit amounts. Importantly, the results underscored the model’s predictive consistency, with well-aligned performance across different implementation strategies."
   ]
  },
  {
   "cell_type": "markdown",
   "metadata": {},
   "source": [
    "# Task 4. Obfuscating Data"
   ]
  },
  {
   "cell_type": "markdown",
   "metadata": {},
   "source": [
    "It best to obfuscate data by multiplying the numerical features (remember, they can be seen as the matrix $X$) by an invertible matrix $P$. \n",
    "\n",
    "$$\n",
    "X' = X \\times P\n",
    "$$\n",
    "\n",
    "Try to do that and check how the features' values will look like after the transformation. By the way, the intertible property is important here so make sure that $P$ is indeed invertible.\n",
    "\n",
    "You may want to review the 'Matrices and Matrix Operations -> Matrix Multiplication' lesson to recall the rule of matrix multiplication and its implementation with NumPy."
   ]
  },
  {
   "cell_type": "code",
   "execution_count": 29,
   "metadata": {},
   "outputs": [],
   "source": [
    "personal_info_column_list = ['gender', 'age', 'income', 'family_members']\n",
    "df_pn = df[personal_info_column_list]"
   ]
  },
  {
   "cell_type": "code",
   "execution_count": 30,
   "metadata": {},
   "outputs": [],
   "source": [
    "X = df_pn.to_numpy()"
   ]
  },
  {
   "cell_type": "markdown",
   "metadata": {},
   "source": [
    "Generating a random matrix $P$."
   ]
  },
  {
   "cell_type": "code",
   "execution_count": 31,
   "metadata": {},
   "outputs": [],
   "source": [
    "rng = np.random.default_rng(seed=42)\n",
    "P_random = rng.random(size=(X.shape[1], X.shape[1]))"
   ]
  },
  {
   "cell_type": "markdown",
   "metadata": {},
   "source": [
    "Checking the matrix $P$ is invertible"
   ]
  },
  {
   "cell_type": "code",
   "execution_count": 32,
   "metadata": {},
   "outputs": [
    {
     "name": "stdout",
     "output_type": "stream",
     "text": [
      "Determinant of P_random: 0.24339135998015463\n",
      "P_random is invertible.\n"
     ]
    }
   ],
   "source": [
    "det_P = np.linalg.det(P_random)\n",
    "print(\"Determinant of P_random:\", det_P)\n",
    "\n",
    "if det_P != 0:\n",
    "    print(\"P_random is invertible.\")\n",
    "else:\n",
    "    print(\"P_random is NOT invertible.\")"
   ]
  },
  {
   "cell_type": "markdown",
   "metadata": {},
   "source": [
    "**Can you guess the customers' ages or income after the transformation?**"
   ]
  },
  {
   "cell_type": "markdown",
   "metadata": {},
   "source": [
    "No, you can’t accurately guess a customer’s original age or income after a transformation, especially if it involves scaling or a linear transformation. For example, with standard scaling, the values represent deviations from the mean — so a value like 1.0 just means “one standard deviation above average,” but without knowing the mean and standard deviation, you can’t reverse it. Similarly, if the data was transformed with a matrix $P$, the original values are hidden in a way that makes them unrecoverable unless you know $P$ and can invert it."
   ]
  },
  {
   "cell_type": "markdown",
   "metadata": {},
   "source": [
    "**Can you recover the original data from $X'$ if you know $P$? Try to check that with calculations by moving $P$ from the right side of the formula above to the left one. The rules of matrix multiplcation are really helpful here.**"
   ]
  },
  {
   "cell_type": "markdown",
   "metadata": {},
   "source": [
    "Yes, you can recover the original data $X$ from the transformed version $X^` = XP$, as long as you know the matrix $P$ and it is invertible. This is a basic result from linear algebra.\n",
    "\n",
    "To isolate $X$, you multiply both sides of the equation by $P^{-1}$ on the right:\n",
    "$$ X^`= XP \\Rightarrow X = X^`P^{-1} $$\n",
    "This works because $PP^{-1}= I$ , the identity matrix, which doesn’t change $X$. Note that $X$ doesn’t need to be square — the key condition is that $P$ must be square and invertible."
   ]
  },
  {
   "cell_type": "markdown",
   "metadata": {},
   "source": [
    "**Print all three cases for a few customers**\n",
    "- The original data\n",
    "- The transformed one\n",
    "- The reversed (recovered) one"
   ]
  },
  {
   "cell_type": "code",
   "execution_count": 33,
   "metadata": {},
   "outputs": [
    {
     "data": {
      "text/html": [
       "<div>\n",
       "<style scoped>\n",
       "    .dataframe tbody tr th:only-of-type {\n",
       "        vertical-align: middle;\n",
       "    }\n",
       "\n",
       "    .dataframe tbody tr th {\n",
       "        vertical-align: top;\n",
       "    }\n",
       "\n",
       "    .dataframe thead th {\n",
       "        text-align: right;\n",
       "    }\n",
       "</style>\n",
       "<table border=\"1\" class=\"dataframe\">\n",
       "  <thead>\n",
       "    <tr style=\"text-align: right;\">\n",
       "      <th></th>\n",
       "      <th>Original Gender</th>\n",
       "      <th>Original Age</th>\n",
       "      <th>Original Income</th>\n",
       "      <th>Original Family Members</th>\n",
       "      <th>Obfuscated Gender</th>\n",
       "      <th>Obfuscated Age</th>\n",
       "      <th>Obfuscated Income</th>\n",
       "      <th>Obfuscated Family Members</th>\n",
       "      <th>Recovered Gender</th>\n",
       "      <th>Recovered Age</th>\n",
       "      <th>Recovered Income</th>\n",
       "      <th>Recovered Family Members</th>\n",
       "    </tr>\n",
       "  </thead>\n",
       "  <tbody>\n",
       "    <tr>\n",
       "      <th>0</th>\n",
       "      <td>1.0</td>\n",
       "      <td>41.0</td>\n",
       "      <td>49600.0</td>\n",
       "      <td>1.0</td>\n",
       "      <td>6359.72</td>\n",
       "      <td>22380.40</td>\n",
       "      <td>18424.09</td>\n",
       "      <td>46000.70</td>\n",
       "      <td>1.0</td>\n",
       "      <td>41.0</td>\n",
       "      <td>49600.0</td>\n",
       "      <td>1.0</td>\n",
       "    </tr>\n",
       "    <tr>\n",
       "      <th>1</th>\n",
       "      <td>0.0</td>\n",
       "      <td>46.0</td>\n",
       "      <td>38000.0</td>\n",
       "      <td>1.0</td>\n",
       "      <td>4873.29</td>\n",
       "      <td>17160.37</td>\n",
       "      <td>14125.78</td>\n",
       "      <td>35253.46</td>\n",
       "      <td>-0.0</td>\n",
       "      <td>46.0</td>\n",
       "      <td>38000.0</td>\n",
       "      <td>1.0</td>\n",
       "    </tr>\n",
       "    <tr>\n",
       "      <th>2</th>\n",
       "      <td>0.0</td>\n",
       "      <td>29.0</td>\n",
       "      <td>21000.0</td>\n",
       "      <td>0.0</td>\n",
       "      <td>2693.12</td>\n",
       "      <td>9486.40</td>\n",
       "      <td>7808.83</td>\n",
       "      <td>19484.86</td>\n",
       "      <td>-0.0</td>\n",
       "      <td>29.0</td>\n",
       "      <td>21000.0</td>\n",
       "      <td>0.0</td>\n",
       "    </tr>\n",
       "    <tr>\n",
       "      <th>3</th>\n",
       "      <td>0.0</td>\n",
       "      <td>21.0</td>\n",
       "      <td>41700.0</td>\n",
       "      <td>2.0</td>\n",
       "      <td>5345.60</td>\n",
       "      <td>18803.23</td>\n",
       "      <td>15479.15</td>\n",
       "      <td>38663.06</td>\n",
       "      <td>-0.0</td>\n",
       "      <td>21.0</td>\n",
       "      <td>41700.0</td>\n",
       "      <td>2.0</td>\n",
       "    </tr>\n",
       "    <tr>\n",
       "      <th>4</th>\n",
       "      <td>1.0</td>\n",
       "      <td>28.0</td>\n",
       "      <td>26100.0</td>\n",
       "      <td>0.0</td>\n",
       "      <td>3347.18</td>\n",
       "      <td>11782.83</td>\n",
       "      <td>9700.00</td>\n",
       "      <td>24211.27</td>\n",
       "      <td>1.0</td>\n",
       "      <td>28.0</td>\n",
       "      <td>26100.0</td>\n",
       "      <td>-0.0</td>\n",
       "    </tr>\n",
       "  </tbody>\n",
       "</table>\n",
       "</div>"
      ],
      "text/plain": [
       "   Original Gender  Original Age  Original Income  Original Family Members  \\\n",
       "0              1.0          41.0          49600.0                      1.0   \n",
       "1              0.0          46.0          38000.0                      1.0   \n",
       "2              0.0          29.0          21000.0                      0.0   \n",
       "3              0.0          21.0          41700.0                      2.0   \n",
       "4              1.0          28.0          26100.0                      0.0   \n",
       "\n",
       "   Obfuscated Gender  Obfuscated Age  Obfuscated Income  \\\n",
       "0            6359.72        22380.40           18424.09   \n",
       "1            4873.29        17160.37           14125.78   \n",
       "2            2693.12         9486.40            7808.83   \n",
       "3            5345.60        18803.23           15479.15   \n",
       "4            3347.18        11782.83            9700.00   \n",
       "\n",
       "   Obfuscated Family Members  Recovered Gender  Recovered Age  \\\n",
       "0                   46000.70               1.0           41.0   \n",
       "1                   35253.46              -0.0           46.0   \n",
       "2                   19484.86              -0.0           29.0   \n",
       "3                   38663.06              -0.0           21.0   \n",
       "4                   24211.27               1.0           28.0   \n",
       "\n",
       "   Recovered Income  Recovered Family Members  \n",
       "0           49600.0                       1.0  \n",
       "1           38000.0                       1.0  \n",
       "2           21000.0                       0.0  \n",
       "3           41700.0                       2.0  \n",
       "4           26100.0                      -0.0  "
      ]
     },
     "execution_count": 33,
     "metadata": {},
     "output_type": "execute_result"
    }
   ],
   "source": [
    "sample_df = df[['gender', 'age', 'income', 'family_members']].head(5)\n",
    "X = sample_df.to_numpy()\n",
    "\n",
    "rng = np.random.default_rng(seed=42)\n",
    "P = rng.random((X.shape[1], X.shape[1]))\n",
    "\n",
    "X_obfuscated = X @ P\n",
    "\n",
    "P_inv = np.linalg.inv(P)\n",
    "X_recovered = X_obfuscated @ P_inv\n",
    "\n",
    "comparison_df = pd.DataFrame({\n",
    "    'Original Gender': X[:, 0],\n",
    "    'Original Age': X[:, 1],\n",
    "    'Original Income': X[:, 2],\n",
    "    'Original Family Members': X[:, 3],\n",
    "\n",
    "    'Obfuscated Gender': X_obfuscated[:, 0],\n",
    "    'Obfuscated Age': X_obfuscated[:, 1],\n",
    "    'Obfuscated Income': X_obfuscated[:, 2],\n",
    "    'Obfuscated Family Members': X_obfuscated[:, 3],\n",
    "\n",
    "    'Recovered Gender': X_recovered[:, 0],\n",
    "    'Recovered Age': X_recovered[:, 1],\n",
    "    'Recovered Income': X_recovered[:, 2],\n",
    "    'Recovered Family Members': X_recovered[:, 3],\n",
    "})\n",
    "\n",
    "comparison_df.round(2)"
   ]
  },
  {
   "cell_type": "markdown",
   "metadata": {},
   "source": [
    "**You can probably see that some values are not exactly the same as they are in the original data. What might be the reason for that?**"
   ]
  },
  {
   "cell_type": "markdown",
   "metadata": {},
   "source": [
    "Some values in the recovered data may differ slightly from the original due to floating-point precision errors. These small differences happen because computers can't represent all decimal numbers exactly, especially after many matrix operations like multiplication and inversion. It's a normal part of numerical computation and doesn't affect the results in a meaningful way."
   ]
  },
  {
   "cell_type": "markdown",
   "metadata": {},
   "source": [
    "We further investigated the impact of data obfuscation through a linear transformation using a random invertible matrix $P$. Both the analytical derivation and computational experiments showed that applying the transformation and adjusting the regression weights accordingly left the predicted values and performance metrics unchanged. This finding highlights the inherent invariance of the linear regression model under such linear transformations, ensuring that model quality, as measured by RMSE and $R^2$, remains unaffected."
   ]
  },
  {
   "cell_type": "markdown",
   "metadata": {},
   "source": [
    "## Proof That Data Obfuscation Can Work with LR"
   ]
  },
  {
   "cell_type": "markdown",
   "metadata": {},
   "source": [
    "The regression task has been solved with linear regression in this project. Your next task is to prove _analytically_ that the given obfuscation method won't affect linear regression in terms of predicted values i.e. their values will remain the same. Can you believe that? Well, you don't have to, you should prove it!"
   ]
  },
  {
   "cell_type": "markdown",
   "metadata": {},
   "source": [
    "So, the data is obfuscated and there is $X \\times P$ instead of just $X$ now. Consequently, there are other weights $w_P$ as\n",
    "$$\n",
    "w = (X^T X)^{-1} X^T y \\quad \\Rightarrow \\quad w_P = [(XP)^T XP]^{-1} (XP)^T y\n",
    "$$\n",
    "\n",
    "How would $w$ and $w_P$ be linked if you simplify the formula for $w_P$ above? \n",
    "\n",
    "What would be predicted values with $w_P$? \n",
    "\n",
    "What does that mean for the quality of linear regression if you measure it with RMSE?\n",
    "\n",
    "Check Appendix B Properties of Matrices in the end of the notebook. There are useful formulas in there!\n",
    "\n",
    "No code is necessary in this section, only analytical explanation!"
   ]
  },
  {
   "cell_type": "markdown",
   "metadata": {},
   "source": [
    "**Answer**"
   ]
  },
  {
   "cell_type": "markdown",
   "metadata": {},
   "source": [
    "When we multiply the original feature matrix $X$ by another matrix $P$ (i.e., we obfuscate the data), and adjust the weights accordingly, the predictions from linear regression do not change. This is because the new weights $wp$ are related to the original weights $w$ by the formula $w = Pwp$.\n",
    "So, when we compute the predictions using the transformed data and new weights: $\\hat{y}^`  = XPwp $ \n",
    "we get the same result as $\\hat{y} = Xw $ \n",
    "because $Pwp=w$ . This means the predicted values stay exactly the same, and the RMSE (used to evaluate the model) is also unchanged. So, linear regression is not affected by this kind of transformation, as long as we adjust the weights properly."
   ]
  },
  {
   "cell_type": "markdown",
   "metadata": {},
   "source": [
    "**Analytical proof**"
   ]
  },
  {
   "cell_type": "markdown",
   "metadata": {},
   "source": [
    "Here is the analytical proof that obfuscating the data by multiplying the feature matrix $X$ with a matrix $P$does not change the predicted values in linear regression.\n",
    "\n",
    "\n",
    "The optimal weights $w$ are given by the normal equation: $ w=(X^TX)^{-1}X^Ty $\n",
    "\n",
    "\n",
    "Let’s define the obfuscated feature matrix as: $ X^{`} = XP $.\n",
    "\n",
    "Now, we apply linear regression to this new matrix. The new weights $wp$ are: $wp =((XP)^T(XP))^{-1}(XP)^Ty $.\n",
    "\n",
    "\n",
    "Use properties of matrix multiplication and transpose: $wp= (P^TX^TXP)^{-1}P^TX^Ty $\n",
    "\n",
    "\n",
    "Now apply the matrix identity: $(ABC)^{-1} = C^{-1}B^{-1}A^{-1} $\n",
    "\n",
    "\n",
    "Then:$wp = P^{-1}(X^TX)^{-1}(P^T)^{-1}P^TX^Ty $\n",
    "\n",
    "\n",
    "Next, we simplify $(P^T)^{-1}P^T =I $, so: $$wp = P^{-1}(X^TX)^{-1}X^Ty = P^{-1}w $$\n",
    "\n",
    "\n",
    "Predicted values using transformed data: $\\hat{y}^` = XPwp $\n",
    "\n",
    "\n",
    "Substitute  $wp =P^{-1}w:$ $$\\hat{y}^` = XPP^{-1}w = XIw = Xw = \\hat{y}$$"
   ]
  },
  {
   "cell_type": "markdown",
   "metadata": {},
   "source": [
    "## Test Linear Regression With Data Obfuscation"
   ]
  },
  {
   "cell_type": "markdown",
   "metadata": {},
   "source": [
    "Now, let's prove Linear Regression can work computationally with the chosen obfuscation transformation.\n",
    "\n",
    "Build a procedure or a class that runs Linear Regression optionally with the obfuscation. You can use either a ready implementation of Linear Regression from sciki-learn or your own.\n",
    "\n",
    "Run Linear Regression for the original data and the obfuscated one, compare the predicted values and the RMSE, $R^2$ metric values. Is there any difference?"
   ]
  },
  {
   "cell_type": "markdown",
   "metadata": {},
   "source": [
    "**Procedure**\n",
    "\n",
    "- Create a square matrix $P$ of random numbers.\n",
    "- Check that it is invertible. If not, repeat the first point until we get an invertible matrix.\n",
    "- <! We ensure that P is invertible by checking that its determinant is not zero !>\n",
    "- Use $XP$ as the new feature matrix"
   ]
  },
  {
   "cell_type": "code",
   "execution_count": 34,
   "metadata": {},
   "outputs": [
    {
     "data": {
      "text/plain": [
       "(0.3637189976119266, 0.4226999694460717, 0.363718997611912, 0.4226999694461179)"
      ]
     },
     "execution_count": 34,
     "metadata": {},
     "output_type": "execute_result"
    }
   ],
   "source": [
    "class ObfuscatedLinearRegression:\n",
    "    def __init__(self, use_obfuscation=False, random_state=42):\n",
    "        self.use_obfuscation = use_obfuscation\n",
    "        self.random_state = random_state\n",
    "        self.model = LinearRegression()\n",
    "        self.P = None  # Transformation matrix\n",
    "        self.P_inv = None\n",
    "    \n",
    "    def _generate_invertible_matrix(self, size):\n",
    "        np.random.seed(self.random_state)\n",
    "        while True:\n",
    "            P = np.random.rand(size, size)\n",
    "            try:\n",
    "                P_inv = np.linalg.inv(P)\n",
    "                return P, P_inv\n",
    "            except LinAlgError:\n",
    "                continue  \n",
    "\n",
    "    def fit(self, X, y):\n",
    "        if self.use_obfuscation:\n",
    "            self.P, self.P_inv = self._generate_invertible_matrix(X.shape[1])\n",
    "            X_transformed = X @ self.P\n",
    "            self.model.fit(X_transformed, y)\n",
    "        else:\n",
    "            self.model.fit(X, y)\n",
    "\n",
    "    def predict(self, X):\n",
    "        if self.use_obfuscation:\n",
    "            X_transformed = X @ self.P\n",
    "            return self.model.predict(X_transformed)\n",
    "        else:\n",
    "            return self.model.predict(X)\n",
    "\n",
    "X = df[['gender', 'age', 'income', 'family_members']].values\n",
    "y = df['insurance_benefits'].values\n",
    "\n",
    "X_train, X_test, y_train, y_test = train_test_split(X, y, test_size=0.3, random_state=42)\n",
    "\n",
    "original_model = ObfuscatedLinearRegression(use_obfuscation=False)\n",
    "original_model.fit(X_train, y_train)\n",
    "y_pred_orig = original_model.predict(X_test)\n",
    "\n",
    "obf_model = ObfuscatedLinearRegression(use_obfuscation=True)\n",
    "obf_model.fit(X_train, y_train)\n",
    "y_pred_obf = obf_model.predict(X_test)\n",
    "\n",
    "rmse_orig = mean_squared_error(y_test, y_pred_orig, squared=False)\n",
    "r2_orig = r2_score(y_test, y_pred_orig)\n",
    "\n",
    "rmse_obf = mean_squared_error(y_test, y_pred_obf, squared=False)\n",
    "r2_obf = r2_score(y_test, y_pred_obf)\n",
    "\n",
    "rmse_orig, r2_orig, rmse_obf, r2_obf"
   ]
  },
  {
   "cell_type": "markdown",
   "metadata": {},
   "source": [
    "The predictions and evaluation metrics are identical (within floating-point precision), proving that linear regression works just as well with the obfuscated data — as long as the weights are adjusted correctly using the transformation.\n",
    "\n",
    "This confirms our earlier analytical proof, now demonstrated computationally. Let me know if you'd like to visualize the predictions or inspect the matrix \n",
    "𝑃\n",
    "P! "
   ]
  },
  {
   "cell_type": "markdown",
   "metadata": {},
   "source": [
    "# Conclusions"
   ]
  },
  {
   "cell_type": "markdown",
   "metadata": {},
   "source": [
    "This project successfully demonstrated the application of supervised machine learning techniques to predict insurance benefit outcomes, addressing both classification and regression problems. Through comprehensive data preprocessing and exploration, we ensured data integrity and model readiness. The classification task revealed the importance of feature scaling, with scaled k-Nearest Neighbors models significantly outperforming unscaled versions and dummy baselines. In the regression task, both standard and custom implementations of linear regression yielded consistent and interpretable results. A key highlight of the project was the analytical and computational proof that linear regression remains unaffected by linear transformations of the feature space, reinforcing its robustness and theoretical soundness. Overall, the project illustrates the effectiveness and flexibility of classical machine learning approaches in insurance analytics, while also emphasizing the importance of mathematical understanding in ensuring model reliability under data transformations."
   ]
  },
  {
   "cell_type": "markdown",
   "metadata": {},
   "source": [
    "# Checklist"
   ]
  },
  {
   "cell_type": "markdown",
   "metadata": {},
   "source": [
    "Type 'x' to check. Then press Shift+Enter."
   ]
  },
  {
   "cell_type": "markdown",
   "metadata": {},
   "source": [
    "- [x]  Jupyter Notebook is open\n",
    "- [x]  Code is error free\n",
    "- [x]  The cells are arranged in order of logic and execution\n",
    "- [x]  Task 1 has been performed\n",
    "    - [x]  There is the procedure that can return k similar customers for a given one\n",
    "    - [x]  The procedure is tested for all four proposed combinations\n",
    "    - [x]  The questions re the scaling/distances are answered\n",
    "- [x]  Task 2 has been performed\n",
    "    - [x]  The random classification model is built and tested for all for probability levels\n",
    "    - [x]  The kNN classification model is built and tested for both the original data and the scaled one, the F1 metric is calculated.\n",
    "- [x]  Task 3 has been performed\n",
    "    - [x]  The linear tegression solution is implemented with matrix operations.\n",
    "    - [x]  RMSE is calculated for the implemented solution.\n",
    "- [x]  Task 4 has been performed\n",
    "    - [x]  The data is obfuscated with a random and invertible matrix P\n",
    "    - [x] The obfuscated data is recoved, few examples are printed out\n",
    "    - [x]  The analytical proof that the transformation does not affect RMSE is provided \n",
    "    - [x]  The computational proof that the transformation does not affect RMSE is provided\n",
    "- [x]  Conclusions have been made"
   ]
  },
  {
   "cell_type": "markdown",
   "metadata": {},
   "source": [
    "# Appendices \n",
    "\n",
    "## Appendix A: Writing Formulas in Jupyter Notebooks"
   ]
  },
  {
   "cell_type": "markdown",
   "metadata": {},
   "source": [
    "You can write formulas in your Jupyter Notebook in a markup language provided by a high-quality publishing system called $\\LaTeX$ (pronounced \"Lah-tech\"), and they will look like formulas in textbooks.\n",
    "\n",
    "To put a formula in a text, put the dollar sign (\\\\$) before and after the formula's text e.g. $\\frac{1}{2} \\times \\frac{3}{2} = \\frac{3}{4}$ or $y = x^2, x \\ge 1$.\n",
    "\n",
    "If a formula should be in its own paragraph, put the double dollar sign (\\\\$\\\\$) before and after the formula text e.g.\n",
    "\n",
    "$$\n",
    "\\bar{x} = \\frac{1}{n}\\sum_{i=1}^{n} x_i.\n",
    "$$\n",
    "\n",
    "The markup language of [LaTeX](https://en.wikipedia.org/wiki/LaTeX) is very popular among people who use formulas in their articles, books and texts. It can be complex but its basics are easy. Check this two page [cheatsheet](http://tug.ctan.org/info/undergradmath/undergradmath.pdf) for learning how to compose the most common formulas."
   ]
  },
  {
   "cell_type": "markdown",
   "metadata": {},
   "source": [
    "## Appendix B: Properties of Matrices"
   ]
  },
  {
   "cell_type": "markdown",
   "metadata": {},
   "source": [
    "Matrices have many properties in Linear Algebra. A few of them are listed here which can help with the analytical proof in this project."
   ]
  },
  {
   "cell_type": "markdown",
   "metadata": {},
   "source": [
    "<table>\n",
    "<tr>\n",
    "<td>Distributivity</td><td>$A(B+C)=AB+AC$</td>\n",
    "</tr>\n",
    "<tr>\n",
    "<td>Non-commutativity</td><td>$AB \\neq BA$</td>\n",
    "</tr>\n",
    "<tr>\n",
    "<td>Associative property of multiplication</td><td>$(AB)C = A(BC)$</td>\n",
    "</tr>\n",
    "<tr>\n",
    "<td>Multiplicative identity property</td><td>$IA = AI = A$</td>\n",
    "</tr>\n",
    "<tr>\n",
    "<td></td><td>$A^{-1}A = AA^{-1} = I$\n",
    "</td>\n",
    "</tr>    \n",
    "<tr>\n",
    "<td></td><td>$(AB)^{-1} = B^{-1}A^{-1}$</td>\n",
    "</tr>    \n",
    "<tr>\n",
    "<td>Reversivity of the transpose of a product of matrices,</td><td>$(AB)^T = B^TA^T$</td>\n",
    "</tr>    \n",
    "</table>"
   ]
  }
 ],
 "metadata": {
  "ExecuteTimeLog": [
   {
    "duration": 2652,
    "start_time": "2025-04-09T15:14:11.442Z"
   },
   {
    "duration": 222,
    "start_time": "2025-04-09T15:41:58.431Z"
   },
   {
    "duration": 1050,
    "start_time": "2025-04-09T15:42:08.406Z"
   },
   {
    "duration": 13,
    "start_time": "2025-04-09T15:42:09.459Z"
   },
   {
    "duration": 3,
    "start_time": "2025-04-09T15:42:09.474Z"
   },
   {
    "duration": 13,
    "start_time": "2025-04-09T15:42:09.479Z"
   },
   {
    "duration": 13,
    "start_time": "2025-04-09T15:42:09.504Z"
   },
   {
    "duration": 261,
    "start_time": "2025-04-09T15:42:09.520Z"
   },
   {
    "duration": 0,
    "start_time": "2025-04-09T15:42:09.784Z"
   },
   {
    "duration": 0,
    "start_time": "2025-04-09T15:42:09.785Z"
   },
   {
    "duration": 0,
    "start_time": "2025-04-09T15:42:09.787Z"
   },
   {
    "duration": 0,
    "start_time": "2025-04-09T15:42:09.788Z"
   },
   {
    "duration": 0,
    "start_time": "2025-04-09T15:42:09.789Z"
   },
   {
    "duration": 0,
    "start_time": "2025-04-09T15:42:09.790Z"
   },
   {
    "duration": 0,
    "start_time": "2025-04-09T15:42:09.791Z"
   },
   {
    "duration": 0,
    "start_time": "2025-04-09T15:42:09.805Z"
   },
   {
    "duration": 0,
    "start_time": "2025-04-09T15:42:09.806Z"
   },
   {
    "duration": 0,
    "start_time": "2025-04-09T15:42:09.808Z"
   },
   {
    "duration": 0,
    "start_time": "2025-04-09T15:42:09.809Z"
   },
   {
    "duration": 0,
    "start_time": "2025-04-09T15:42:09.810Z"
   },
   {
    "duration": 0,
    "start_time": "2025-04-09T15:42:09.811Z"
   },
   {
    "duration": 0,
    "start_time": "2025-04-09T15:42:09.812Z"
   },
   {
    "duration": 0,
    "start_time": "2025-04-09T15:42:09.813Z"
   },
   {
    "duration": 0,
    "start_time": "2025-04-09T15:42:09.814Z"
   },
   {
    "duration": 0,
    "start_time": "2025-04-09T15:42:09.815Z"
   },
   {
    "duration": 0,
    "start_time": "2025-04-09T15:42:09.816Z"
   },
   {
    "duration": 3,
    "start_time": "2025-04-09T15:43:25.584Z"
   },
   {
    "duration": 4,
    "start_time": "2025-04-09T15:43:26.622Z"
   },
   {
    "duration": 8,
    "start_time": "2025-04-09T15:44:41.471Z"
   },
   {
    "duration": 16,
    "start_time": "2025-04-09T15:49:18.794Z"
   },
   {
    "duration": 18,
    "start_time": "2025-04-09T15:49:30.205Z"
   },
   {
    "duration": 6,
    "start_time": "2025-04-09T15:50:22.694Z"
   },
   {
    "duration": 13,
    "start_time": "2025-04-09T15:50:45.107Z"
   },
   {
    "duration": 2816,
    "start_time": "2025-04-09T15:50:48.862Z"
   },
   {
    "duration": 1077,
    "start_time": "2025-04-09T15:52:00.524Z"
   },
   {
    "duration": 7,
    "start_time": "2025-04-09T15:52:01.603Z"
   },
   {
    "duration": 3,
    "start_time": "2025-04-09T15:52:01.611Z"
   },
   {
    "duration": 11,
    "start_time": "2025-04-09T15:52:01.615Z"
   },
   {
    "duration": 9,
    "start_time": "2025-04-09T15:52:01.628Z"
   },
   {
    "duration": 3,
    "start_time": "2025-04-09T15:52:01.639Z"
   },
   {
    "duration": 8,
    "start_time": "2025-04-09T15:52:01.644Z"
   },
   {
    "duration": 16,
    "start_time": "2025-04-09T15:52:01.653Z"
   },
   {
    "duration": 36,
    "start_time": "2025-04-09T15:52:01.671Z"
   },
   {
    "duration": 2766,
    "start_time": "2025-04-09T15:52:01.708Z"
   },
   {
    "duration": 2597,
    "start_time": "2025-04-09T15:52:04.476Z"
   },
   {
    "duration": 6,
    "start_time": "2025-04-09T15:52:07.074Z"
   },
   {
    "duration": 6,
    "start_time": "2025-04-09T15:52:07.082Z"
   },
   {
    "duration": 0,
    "start_time": "2025-04-09T15:52:07.090Z"
   },
   {
    "duration": 0,
    "start_time": "2025-04-09T15:52:07.092Z"
   },
   {
    "duration": 0,
    "start_time": "2025-04-09T15:52:07.105Z"
   },
   {
    "duration": 0,
    "start_time": "2025-04-09T15:52:07.106Z"
   },
   {
    "duration": 0,
    "start_time": "2025-04-09T15:52:07.107Z"
   },
   {
    "duration": 0,
    "start_time": "2025-04-09T15:52:07.109Z"
   },
   {
    "duration": 0,
    "start_time": "2025-04-09T15:52:07.110Z"
   },
   {
    "duration": 0,
    "start_time": "2025-04-09T15:52:07.112Z"
   },
   {
    "duration": 0,
    "start_time": "2025-04-09T15:52:07.113Z"
   },
   {
    "duration": 0,
    "start_time": "2025-04-09T15:52:07.114Z"
   },
   {
    "duration": 0,
    "start_time": "2025-04-09T15:52:07.115Z"
   },
   {
    "duration": 0,
    "start_time": "2025-04-09T15:52:07.116Z"
   },
   {
    "duration": 0,
    "start_time": "2025-04-09T15:52:07.117Z"
   },
   {
    "duration": 3,
    "start_time": "2025-04-09T15:54:14.431Z"
   },
   {
    "duration": 2798,
    "start_time": "2025-04-09T15:54:17.037Z"
   },
   {
    "duration": 6,
    "start_time": "2025-04-09T16:21:16.613Z"
   },
   {
    "duration": 6,
    "start_time": "2025-04-09T18:11:27.531Z"
   },
   {
    "duration": 3069,
    "start_time": "2025-04-09T18:17:46.747Z"
   },
   {
    "duration": 2703,
    "start_time": "2025-04-09T18:17:55.657Z"
   },
   {
    "duration": 175,
    "start_time": "2025-04-09T18:26:05.245Z"
   },
   {
    "duration": 13,
    "start_time": "2025-04-09T18:26:11.139Z"
   },
   {
    "duration": 8,
    "start_time": "2025-04-09T18:26:17.626Z"
   },
   {
    "duration": 8,
    "start_time": "2025-04-09T18:26:17.983Z"
   },
   {
    "duration": 121,
    "start_time": "2025-04-09T18:26:19.106Z"
   },
   {
    "duration": 26,
    "start_time": "2025-04-09T18:34:18.982Z"
   },
   {
    "duration": 7,
    "start_time": "2025-04-09T18:36:21.547Z"
   },
   {
    "duration": 466,
    "start_time": "2025-04-09T18:58:56.150Z"
   },
   {
    "duration": 3,
    "start_time": "2025-04-09T18:58:56.716Z"
   },
   {
    "duration": 1059,
    "start_time": "2025-04-09T18:59:06.808Z"
   },
   {
    "duration": 8,
    "start_time": "2025-04-09T18:59:07.870Z"
   },
   {
    "duration": 4,
    "start_time": "2025-04-09T18:59:07.880Z"
   },
   {
    "duration": 20,
    "start_time": "2025-04-09T18:59:07.886Z"
   },
   {
    "duration": 8,
    "start_time": "2025-04-09T18:59:07.908Z"
   },
   {
    "duration": 3,
    "start_time": "2025-04-09T18:59:07.918Z"
   },
   {
    "duration": 7,
    "start_time": "2025-04-09T18:59:07.923Z"
   },
   {
    "duration": 18,
    "start_time": "2025-04-09T18:59:07.932Z"
   },
   {
    "duration": 5,
    "start_time": "2025-04-09T18:59:07.952Z"
   },
   {
    "duration": 5,
    "start_time": "2025-04-09T18:59:07.959Z"
   },
   {
    "duration": 42,
    "start_time": "2025-04-09T18:59:07.965Z"
   },
   {
    "duration": 2707,
    "start_time": "2025-04-09T18:59:08.009Z"
   },
   {
    "duration": 2542,
    "start_time": "2025-04-09T18:59:10.718Z"
   },
   {
    "duration": 3,
    "start_time": "2025-04-09T18:59:13.264Z"
   },
   {
    "duration": 5,
    "start_time": "2025-04-09T18:59:13.269Z"
   },
   {
    "duration": 8,
    "start_time": "2025-04-09T18:59:13.276Z"
   },
   {
    "duration": 26,
    "start_time": "2025-04-09T18:59:13.286Z"
   },
   {
    "duration": 194,
    "start_time": "2025-04-09T18:59:13.313Z"
   },
   {
    "duration": 291,
    "start_time": "2025-04-09T18:59:13.508Z"
   },
   {
    "duration": 0,
    "start_time": "2025-04-09T18:59:13.801Z"
   },
   {
    "duration": 0,
    "start_time": "2025-04-09T18:59:13.805Z"
   },
   {
    "duration": 0,
    "start_time": "2025-04-09T18:59:13.806Z"
   },
   {
    "duration": 0,
    "start_time": "2025-04-09T18:59:13.808Z"
   },
   {
    "duration": 0,
    "start_time": "2025-04-09T18:59:13.809Z"
   },
   {
    "duration": 0,
    "start_time": "2025-04-09T18:59:13.811Z"
   },
   {
    "duration": 0,
    "start_time": "2025-04-09T18:59:13.812Z"
   },
   {
    "duration": 0,
    "start_time": "2025-04-09T18:59:13.813Z"
   },
   {
    "duration": 0,
    "start_time": "2025-04-09T18:59:13.815Z"
   },
   {
    "duration": 0,
    "start_time": "2025-04-09T18:59:13.816Z"
   },
   {
    "duration": 0,
    "start_time": "2025-04-09T18:59:13.816Z"
   },
   {
    "duration": 19,
    "start_time": "2025-04-09T19:08:55.420Z"
   },
   {
    "duration": 1048,
    "start_time": "2025-04-09T19:09:12.059Z"
   },
   {
    "duration": 7,
    "start_time": "2025-04-09T19:09:13.109Z"
   },
   {
    "duration": 3,
    "start_time": "2025-04-09T19:09:13.118Z"
   },
   {
    "duration": 9,
    "start_time": "2025-04-09T19:09:13.123Z"
   },
   {
    "duration": 8,
    "start_time": "2025-04-09T19:09:13.135Z"
   },
   {
    "duration": 3,
    "start_time": "2025-04-09T19:09:13.144Z"
   },
   {
    "duration": 8,
    "start_time": "2025-04-09T19:09:13.148Z"
   },
   {
    "duration": 48,
    "start_time": "2025-04-09T19:09:13.158Z"
   },
   {
    "duration": 5,
    "start_time": "2025-04-09T19:09:13.208Z"
   },
   {
    "duration": 4,
    "start_time": "2025-04-09T19:09:13.216Z"
   },
   {
    "duration": 3,
    "start_time": "2025-04-09T19:09:13.222Z"
   },
   {
    "duration": 2840,
    "start_time": "2025-04-09T19:09:13.228Z"
   },
   {
    "duration": 2605,
    "start_time": "2025-04-09T19:09:16.070Z"
   },
   {
    "duration": 3,
    "start_time": "2025-04-09T19:09:18.679Z"
   },
   {
    "duration": 6,
    "start_time": "2025-04-09T19:09:18.683Z"
   },
   {
    "duration": 21,
    "start_time": "2025-04-09T19:09:18.691Z"
   },
   {
    "duration": 8,
    "start_time": "2025-04-09T19:09:18.714Z"
   },
   {
    "duration": 252,
    "start_time": "2025-04-09T19:09:18.724Z"
   },
   {
    "duration": 0,
    "start_time": "2025-04-09T19:09:18.978Z"
   },
   {
    "duration": 0,
    "start_time": "2025-04-09T19:09:18.979Z"
   },
   {
    "duration": 0,
    "start_time": "2025-04-09T19:09:18.981Z"
   },
   {
    "duration": 0,
    "start_time": "2025-04-09T19:09:18.982Z"
   },
   {
    "duration": 0,
    "start_time": "2025-04-09T19:09:18.983Z"
   },
   {
    "duration": 0,
    "start_time": "2025-04-09T19:09:18.985Z"
   },
   {
    "duration": 0,
    "start_time": "2025-04-09T19:09:18.987Z"
   },
   {
    "duration": 0,
    "start_time": "2025-04-09T19:09:18.988Z"
   },
   {
    "duration": 0,
    "start_time": "2025-04-09T19:09:19.005Z"
   },
   {
    "duration": 0,
    "start_time": "2025-04-09T19:09:19.006Z"
   },
   {
    "duration": 0,
    "start_time": "2025-04-09T19:09:19.008Z"
   },
   {
    "duration": 0,
    "start_time": "2025-04-09T19:09:19.010Z"
   },
   {
    "duration": 52,
    "start_time": "2025-04-09T19:10:25.076Z"
   },
   {
    "duration": 1072,
    "start_time": "2025-04-09T19:11:47.409Z"
   },
   {
    "duration": 8,
    "start_time": "2025-04-09T19:11:48.483Z"
   },
   {
    "duration": 3,
    "start_time": "2025-04-09T19:11:48.492Z"
   },
   {
    "duration": 9,
    "start_time": "2025-04-09T19:11:48.506Z"
   },
   {
    "duration": 7,
    "start_time": "2025-04-09T19:11:48.517Z"
   },
   {
    "duration": 3,
    "start_time": "2025-04-09T19:11:48.526Z"
   },
   {
    "duration": 10,
    "start_time": "2025-04-09T19:11:48.530Z"
   },
   {
    "duration": 16,
    "start_time": "2025-04-09T19:11:48.542Z"
   },
   {
    "duration": 6,
    "start_time": "2025-04-09T19:11:48.559Z"
   },
   {
    "duration": 41,
    "start_time": "2025-04-09T19:11:48.568Z"
   },
   {
    "duration": 3,
    "start_time": "2025-04-09T19:11:48.611Z"
   },
   {
    "duration": 2723,
    "start_time": "2025-04-09T19:11:48.615Z"
   },
   {
    "duration": 2557,
    "start_time": "2025-04-09T19:11:51.340Z"
   },
   {
    "duration": 7,
    "start_time": "2025-04-09T19:11:53.899Z"
   },
   {
    "duration": 7,
    "start_time": "2025-04-09T19:11:53.908Z"
   },
   {
    "duration": 9,
    "start_time": "2025-04-09T19:11:53.917Z"
   },
   {
    "duration": 9,
    "start_time": "2025-04-09T19:11:53.928Z"
   },
   {
    "duration": 183,
    "start_time": "2025-04-09T19:11:53.939Z"
   },
   {
    "duration": 85,
    "start_time": "2025-04-09T19:11:54.127Z"
   },
   {
    "duration": 4,
    "start_time": "2025-04-09T19:11:54.216Z"
   },
   {
    "duration": 5,
    "start_time": "2025-04-09T19:11:54.221Z"
   },
   {
    "duration": 3,
    "start_time": "2025-04-09T19:11:54.228Z"
   },
   {
    "duration": 4,
    "start_time": "2025-04-09T19:11:54.233Z"
   },
   {
    "duration": 4,
    "start_time": "2025-04-09T19:11:54.238Z"
   },
   {
    "duration": 0,
    "start_time": "2025-04-09T19:11:54.244Z"
   },
   {
    "duration": 0,
    "start_time": "2025-04-09T19:11:54.245Z"
   },
   {
    "duration": 0,
    "start_time": "2025-04-09T19:11:54.246Z"
   },
   {
    "duration": 0,
    "start_time": "2025-04-09T19:11:54.247Z"
   },
   {
    "duration": 0,
    "start_time": "2025-04-09T19:11:54.305Z"
   },
   {
    "duration": 0,
    "start_time": "2025-04-09T19:11:54.306Z"
   },
   {
    "duration": 20,
    "start_time": "2025-04-09T19:12:53.675Z"
   },
   {
    "duration": 253,
    "start_time": "2025-04-09T19:17:21.754Z"
   },
   {
    "duration": 3,
    "start_time": "2025-04-09T19:18:43.490Z"
   },
   {
    "duration": 1052,
    "start_time": "2025-04-09T19:18:50.055Z"
   },
   {
    "duration": 8,
    "start_time": "2025-04-09T19:18:51.109Z"
   },
   {
    "duration": 3,
    "start_time": "2025-04-09T19:18:51.119Z"
   },
   {
    "duration": 11,
    "start_time": "2025-04-09T19:18:51.123Z"
   },
   {
    "duration": 9,
    "start_time": "2025-04-09T19:18:51.137Z"
   },
   {
    "duration": 3,
    "start_time": "2025-04-09T19:18:51.148Z"
   },
   {
    "duration": 9,
    "start_time": "2025-04-09T19:18:51.153Z"
   },
   {
    "duration": 57,
    "start_time": "2025-04-09T19:18:51.164Z"
   },
   {
    "duration": 5,
    "start_time": "2025-04-09T19:18:51.223Z"
   },
   {
    "duration": 5,
    "start_time": "2025-04-09T19:18:51.230Z"
   },
   {
    "duration": 3,
    "start_time": "2025-04-09T19:18:51.237Z"
   },
   {
    "duration": 2836,
    "start_time": "2025-04-09T19:18:51.241Z"
   },
   {
    "duration": 2691,
    "start_time": "2025-04-09T19:18:54.079Z"
   },
   {
    "duration": 3,
    "start_time": "2025-04-09T19:18:56.773Z"
   },
   {
    "duration": 6,
    "start_time": "2025-04-09T19:18:56.778Z"
   },
   {
    "duration": 26,
    "start_time": "2025-04-09T19:18:56.786Z"
   },
   {
    "duration": 9,
    "start_time": "2025-04-09T19:18:56.815Z"
   },
   {
    "duration": 190,
    "start_time": "2025-04-09T19:18:56.826Z"
   },
   {
    "duration": 9,
    "start_time": "2025-04-09T19:18:57.018Z"
   },
   {
    "duration": 5,
    "start_time": "2025-04-09T19:18:57.107Z"
   },
   {
    "duration": 5,
    "start_time": "2025-04-09T19:18:57.114Z"
   },
   {
    "duration": 3,
    "start_time": "2025-04-09T19:18:57.121Z"
   },
   {
    "duration": 5,
    "start_time": "2025-04-09T19:18:57.125Z"
   },
   {
    "duration": 19,
    "start_time": "2025-04-09T19:18:57.131Z"
   },
   {
    "duration": 655,
    "start_time": "2025-04-09T19:18:57.152Z"
   },
   {
    "duration": 5,
    "start_time": "2025-04-09T19:18:57.810Z"
   },
   {
    "duration": 0,
    "start_time": "2025-04-09T19:18:57.817Z"
   },
   {
    "duration": 0,
    "start_time": "2025-04-09T19:18:57.819Z"
   },
   {
    "duration": 0,
    "start_time": "2025-04-09T19:18:57.820Z"
   },
   {
    "duration": 0,
    "start_time": "2025-04-09T19:18:57.825Z"
   },
   {
    "duration": 0,
    "start_time": "2025-04-09T19:18:57.827Z"
   },
   {
    "duration": 1034,
    "start_time": "2025-04-09T19:23:02.154Z"
   },
   {
    "duration": 8,
    "start_time": "2025-04-09T19:23:03.191Z"
   },
   {
    "duration": 3,
    "start_time": "2025-04-09T19:23:03.205Z"
   },
   {
    "duration": 10,
    "start_time": "2025-04-09T19:23:03.210Z"
   },
   {
    "duration": 9,
    "start_time": "2025-04-09T19:23:03.222Z"
   },
   {
    "duration": 3,
    "start_time": "2025-04-09T19:23:03.233Z"
   },
   {
    "duration": 8,
    "start_time": "2025-04-09T19:23:03.238Z"
   },
   {
    "duration": 16,
    "start_time": "2025-04-09T19:23:03.247Z"
   },
   {
    "duration": 42,
    "start_time": "2025-04-09T19:23:03.265Z"
   },
   {
    "duration": 6,
    "start_time": "2025-04-09T19:23:03.310Z"
   },
   {
    "duration": 3,
    "start_time": "2025-04-09T19:23:03.317Z"
   },
   {
    "duration": 2820,
    "start_time": "2025-04-09T19:23:03.322Z"
   },
   {
    "duration": 2598,
    "start_time": "2025-04-09T19:23:06.144Z"
   },
   {
    "duration": 3,
    "start_time": "2025-04-09T19:23:08.744Z"
   },
   {
    "duration": 7,
    "start_time": "2025-04-09T19:23:08.748Z"
   },
   {
    "duration": 9,
    "start_time": "2025-04-09T19:23:08.756Z"
   },
   {
    "duration": 9,
    "start_time": "2025-04-09T19:23:08.767Z"
   },
   {
    "duration": 146,
    "start_time": "2025-04-09T19:23:08.778Z"
   },
   {
    "duration": 86,
    "start_time": "2025-04-09T19:23:08.926Z"
   },
   {
    "duration": 4,
    "start_time": "2025-04-09T19:23:09.014Z"
   },
   {
    "duration": 4,
    "start_time": "2025-04-09T19:23:09.019Z"
   },
   {
    "duration": 3,
    "start_time": "2025-04-09T19:23:09.024Z"
   },
   {
    "duration": 4,
    "start_time": "2025-04-09T19:23:09.029Z"
   },
   {
    "duration": 81,
    "start_time": "2025-04-09T19:23:09.034Z"
   },
   {
    "duration": 592,
    "start_time": "2025-04-09T19:23:09.117Z"
   },
   {
    "duration": 3,
    "start_time": "2025-04-09T19:23:09.711Z"
   },
   {
    "duration": 0,
    "start_time": "2025-04-09T19:23:09.716Z"
   },
   {
    "duration": 0,
    "start_time": "2025-04-09T19:23:09.717Z"
   },
   {
    "duration": 0,
    "start_time": "2025-04-09T19:23:09.718Z"
   },
   {
    "duration": 0,
    "start_time": "2025-04-09T19:23:09.719Z"
   },
   {
    "duration": 0,
    "start_time": "2025-04-09T19:23:09.721Z"
   },
   {
    "duration": 0,
    "start_time": "2025-04-09T19:23:09.722Z"
   },
   {
    "duration": 4,
    "start_time": "2025-04-09T19:25:08.735Z"
   },
   {
    "duration": 4,
    "start_time": "2025-04-09T19:26:27.034Z"
   },
   {
    "duration": 455,
    "start_time": "2025-04-09T19:43:17.007Z"
   },
   {
    "duration": 1123,
    "start_time": "2025-04-09T19:43:43.730Z"
   },
   {
    "duration": 8,
    "start_time": "2025-04-09T19:43:44.856Z"
   },
   {
    "duration": 4,
    "start_time": "2025-04-09T19:43:44.866Z"
   },
   {
    "duration": 11,
    "start_time": "2025-04-09T19:43:44.872Z"
   },
   {
    "duration": 27,
    "start_time": "2025-04-09T19:43:44.886Z"
   },
   {
    "duration": 5,
    "start_time": "2025-04-09T19:43:44.916Z"
   },
   {
    "duration": 10,
    "start_time": "2025-04-09T19:43:44.922Z"
   },
   {
    "duration": 23,
    "start_time": "2025-04-09T19:43:44.934Z"
   },
   {
    "duration": 7,
    "start_time": "2025-04-09T19:43:44.959Z"
   },
   {
    "duration": 6,
    "start_time": "2025-04-09T19:43:44.968Z"
   },
   {
    "duration": 32,
    "start_time": "2025-04-09T19:43:44.976Z"
   },
   {
    "duration": 3073,
    "start_time": "2025-04-09T19:43:45.009Z"
   },
   {
    "duration": 2788,
    "start_time": "2025-04-09T19:43:48.085Z"
   },
   {
    "duration": 3,
    "start_time": "2025-04-09T19:43:50.877Z"
   },
   {
    "duration": 9,
    "start_time": "2025-04-09T19:43:50.882Z"
   },
   {
    "duration": 22,
    "start_time": "2025-04-09T19:43:50.893Z"
   },
   {
    "duration": 11,
    "start_time": "2025-04-09T19:43:50.917Z"
   },
   {
    "duration": 211,
    "start_time": "2025-04-09T19:43:50.930Z"
   },
   {
    "duration": 64,
    "start_time": "2025-04-09T19:43:51.143Z"
   },
   {
    "duration": 4,
    "start_time": "2025-04-09T19:43:51.209Z"
   },
   {
    "duration": 8,
    "start_time": "2025-04-09T19:43:51.215Z"
   },
   {
    "duration": 6,
    "start_time": "2025-04-09T19:43:51.225Z"
   },
   {
    "duration": 3,
    "start_time": "2025-04-09T19:43:51.233Z"
   },
   {
    "duration": 86,
    "start_time": "2025-04-09T19:43:51.239Z"
   },
   {
    "duration": 603,
    "start_time": "2025-04-09T19:43:51.327Z"
   },
   {
    "duration": 8,
    "start_time": "2025-04-09T19:43:51.932Z"
   },
   {
    "duration": 5,
    "start_time": "2025-04-09T19:43:51.943Z"
   },
   {
    "duration": 420,
    "start_time": "2025-04-09T19:43:51.951Z"
   },
   {
    "duration": 0,
    "start_time": "2025-04-09T19:43:52.373Z"
   },
   {
    "duration": 0,
    "start_time": "2025-04-09T19:43:52.374Z"
   },
   {
    "duration": 0,
    "start_time": "2025-04-09T19:43:52.376Z"
   },
   {
    "duration": 0,
    "start_time": "2025-04-09T19:43:52.385Z"
   },
   {
    "duration": 0,
    "start_time": "2025-04-09T19:43:52.386Z"
   },
   {
    "duration": 0,
    "start_time": "2025-04-09T19:43:52.387Z"
   },
   {
    "duration": 0,
    "start_time": "2025-04-09T19:43:52.388Z"
   },
   {
    "duration": 7,
    "start_time": "2025-04-09T20:08:50.297Z"
   },
   {
    "duration": 103,
    "start_time": "2025-04-09T20:20:00.509Z"
   },
   {
    "duration": 24,
    "start_time": "2025-04-09T20:20:42.819Z"
   },
   {
    "duration": 1054,
    "start_time": "2025-04-09T20:29:02.686Z"
   },
   {
    "duration": 11,
    "start_time": "2025-04-09T20:29:03.743Z"
   },
   {
    "duration": 4,
    "start_time": "2025-04-09T20:29:03.756Z"
   },
   {
    "duration": 14,
    "start_time": "2025-04-09T20:29:03.761Z"
   },
   {
    "duration": 10,
    "start_time": "2025-04-09T20:29:03.779Z"
   },
   {
    "duration": 3,
    "start_time": "2025-04-09T20:29:03.806Z"
   },
   {
    "duration": 9,
    "start_time": "2025-04-09T20:29:03.811Z"
   },
   {
    "duration": 17,
    "start_time": "2025-04-09T20:29:03.821Z"
   },
   {
    "duration": 6,
    "start_time": "2025-04-09T20:29:03.839Z"
   },
   {
    "duration": 5,
    "start_time": "2025-04-09T20:29:03.847Z"
   },
   {
    "duration": 3,
    "start_time": "2025-04-09T20:29:03.853Z"
   },
   {
    "duration": 3099,
    "start_time": "2025-04-09T20:29:03.858Z"
   },
   {
    "duration": 2769,
    "start_time": "2025-04-09T20:29:06.959Z"
   },
   {
    "duration": 5,
    "start_time": "2025-04-09T20:29:09.733Z"
   },
   {
    "duration": 10,
    "start_time": "2025-04-09T20:29:09.740Z"
   },
   {
    "duration": 9,
    "start_time": "2025-04-09T20:29:09.752Z"
   },
   {
    "duration": 244,
    "start_time": "2025-04-09T20:29:09.762Z"
   },
   {
    "duration": 12,
    "start_time": "2025-04-09T20:29:10.008Z"
   },
   {
    "duration": 4,
    "start_time": "2025-04-09T20:29:10.021Z"
   },
   {
    "duration": 6,
    "start_time": "2025-04-09T20:29:10.027Z"
   },
   {
    "duration": 70,
    "start_time": "2025-04-09T20:29:10.035Z"
   },
   {
    "duration": 4,
    "start_time": "2025-04-09T20:29:10.107Z"
   },
   {
    "duration": 35,
    "start_time": "2025-04-09T20:29:10.113Z"
   },
   {
    "duration": 627,
    "start_time": "2025-04-09T20:29:10.150Z"
   },
   {
    "duration": 5,
    "start_time": "2025-04-09T20:29:10.779Z"
   },
   {
    "duration": 5,
    "start_time": "2025-04-09T20:29:10.786Z"
   },
   {
    "duration": 17,
    "start_time": "2025-04-09T20:29:10.793Z"
   },
   {
    "duration": 14,
    "start_time": "2025-04-09T20:29:10.812Z"
   },
   {
    "duration": 3,
    "start_time": "2025-04-09T20:29:10.828Z"
   },
   {
    "duration": 3,
    "start_time": "2025-04-09T20:29:10.833Z"
   },
   {
    "duration": 69,
    "start_time": "2025-04-09T20:29:10.838Z"
   },
   {
    "duration": 8,
    "start_time": "2025-04-09T20:29:10.909Z"
   },
   {
    "duration": 29,
    "start_time": "2025-04-09T20:29:10.919Z"
   },
   {
    "duration": 62,
    "start_time": "2025-04-09T20:29:10.950Z"
   },
   {
    "duration": 2795,
    "start_time": "2025-04-09T23:00:29.587Z"
   },
   {
    "duration": 11,
    "start_time": "2025-04-09T23:00:32.384Z"
   },
   {
    "duration": 3,
    "start_time": "2025-04-09T23:00:32.397Z"
   },
   {
    "duration": 11,
    "start_time": "2025-04-09T23:00:32.403Z"
   },
   {
    "duration": 21,
    "start_time": "2025-04-09T23:00:32.416Z"
   },
   {
    "duration": 3,
    "start_time": "2025-04-09T23:00:32.439Z"
   },
   {
    "duration": 7,
    "start_time": "2025-04-09T23:00:32.444Z"
   },
   {
    "duration": 15,
    "start_time": "2025-04-09T23:00:32.453Z"
   },
   {
    "duration": 5,
    "start_time": "2025-04-09T23:00:32.470Z"
   },
   {
    "duration": 5,
    "start_time": "2025-04-09T23:00:32.477Z"
   },
   {
    "duration": 3,
    "start_time": "2025-04-09T23:00:32.483Z"
   },
   {
    "duration": 2787,
    "start_time": "2025-04-09T23:00:32.488Z"
   },
   {
    "duration": 2565,
    "start_time": "2025-04-09T23:00:35.277Z"
   },
   {
    "duration": 5,
    "start_time": "2025-04-09T23:00:37.845Z"
   },
   {
    "duration": 8,
    "start_time": "2025-04-09T23:00:55.769Z"
   },
   {
    "duration": 8,
    "start_time": "2025-04-09T23:00:57.963Z"
   },
   {
    "duration": 323,
    "start_time": "2025-04-09T23:01:15.091Z"
   },
   {
    "duration": 226,
    "start_time": "2025-04-09T23:01:22.417Z"
   },
   {
    "duration": 4,
    "start_time": "2025-04-09T23:18:08.507Z"
   },
   {
    "duration": 5,
    "start_time": "2025-04-09T23:21:08.264Z"
   },
   {
    "duration": 102,
    "start_time": "2025-04-09T23:25:15.046Z"
   },
   {
    "duration": 159,
    "start_time": "2025-04-10T00:29:07.297Z"
   },
   {
    "duration": 2702,
    "start_time": "2025-04-10T00:29:20.837Z"
   },
   {
    "duration": 13,
    "start_time": "2025-04-10T00:29:23.542Z"
   },
   {
    "duration": 3,
    "start_time": "2025-04-10T00:29:23.556Z"
   },
   {
    "duration": 15,
    "start_time": "2025-04-10T00:29:23.561Z"
   },
   {
    "duration": 8,
    "start_time": "2025-04-10T00:29:23.578Z"
   },
   {
    "duration": 3,
    "start_time": "2025-04-10T00:29:23.588Z"
   },
   {
    "duration": 8,
    "start_time": "2025-04-10T00:29:23.592Z"
   },
   {
    "duration": 16,
    "start_time": "2025-04-10T00:29:23.601Z"
   },
   {
    "duration": 6,
    "start_time": "2025-04-10T00:29:23.619Z"
   },
   {
    "duration": 5,
    "start_time": "2025-04-10T00:29:23.626Z"
   },
   {
    "duration": 39,
    "start_time": "2025-04-10T00:29:23.633Z"
   },
   {
    "duration": 2773,
    "start_time": "2025-04-10T00:29:23.673Z"
   },
   {
    "duration": 2534,
    "start_time": "2025-04-10T00:29:26.448Z"
   },
   {
    "duration": 87,
    "start_time": "2025-04-10T00:29:28.986Z"
   },
   {
    "duration": 8,
    "start_time": "2025-04-10T00:29:29.075Z"
   },
   {
    "duration": 8,
    "start_time": "2025-04-10T00:29:29.084Z"
   },
   {
    "duration": 251,
    "start_time": "2025-04-10T00:29:29.094Z"
   },
   {
    "duration": 0,
    "start_time": "2025-04-10T00:29:29.346Z"
   },
   {
    "duration": 0,
    "start_time": "2025-04-10T00:29:29.347Z"
   },
   {
    "duration": 0,
    "start_time": "2025-04-10T00:29:29.349Z"
   },
   {
    "duration": 0,
    "start_time": "2025-04-10T00:29:29.350Z"
   },
   {
    "duration": 0,
    "start_time": "2025-04-10T00:29:29.351Z"
   },
   {
    "duration": 0,
    "start_time": "2025-04-10T00:29:29.352Z"
   },
   {
    "duration": 0,
    "start_time": "2025-04-10T00:29:29.353Z"
   },
   {
    "duration": 0,
    "start_time": "2025-04-10T00:29:29.354Z"
   },
   {
    "duration": 0,
    "start_time": "2025-04-10T00:29:29.369Z"
   },
   {
    "duration": 0,
    "start_time": "2025-04-10T00:29:29.371Z"
   },
   {
    "duration": 0,
    "start_time": "2025-04-10T00:29:29.373Z"
   },
   {
    "duration": 0,
    "start_time": "2025-04-10T00:29:29.374Z"
   },
   {
    "duration": 0,
    "start_time": "2025-04-10T00:29:29.376Z"
   },
   {
    "duration": 0,
    "start_time": "2025-04-10T00:29:29.377Z"
   },
   {
    "duration": 0,
    "start_time": "2025-04-10T00:29:29.378Z"
   },
   {
    "duration": 0,
    "start_time": "2025-04-10T00:29:29.379Z"
   },
   {
    "duration": 0,
    "start_time": "2025-04-10T00:29:29.380Z"
   },
   {
    "duration": 7,
    "start_time": "2025-04-10T00:32:41.772Z"
   },
   {
    "duration": 1000,
    "start_time": "2025-04-10T00:32:46.985Z"
   },
   {
    "duration": 7,
    "start_time": "2025-04-10T00:32:47.987Z"
   },
   {
    "duration": 3,
    "start_time": "2025-04-10T00:32:47.995Z"
   },
   {
    "duration": 10,
    "start_time": "2025-04-10T00:32:48.000Z"
   },
   {
    "duration": 9,
    "start_time": "2025-04-10T00:32:48.011Z"
   },
   {
    "duration": 3,
    "start_time": "2025-04-10T00:32:48.022Z"
   },
   {
    "duration": 7,
    "start_time": "2025-04-10T00:32:48.027Z"
   },
   {
    "duration": 49,
    "start_time": "2025-04-10T00:32:48.035Z"
   },
   {
    "duration": 5,
    "start_time": "2025-04-10T00:32:48.086Z"
   },
   {
    "duration": 4,
    "start_time": "2025-04-10T00:32:48.095Z"
   },
   {
    "duration": 3,
    "start_time": "2025-04-10T00:32:48.101Z"
   },
   {
    "duration": 2680,
    "start_time": "2025-04-10T00:32:48.106Z"
   },
   {
    "duration": 2512,
    "start_time": "2025-04-10T00:32:50.789Z"
   },
   {
    "duration": 5,
    "start_time": "2025-04-10T00:32:53.303Z"
   },
   {
    "duration": 9,
    "start_time": "2025-04-10T00:32:53.309Z"
   },
   {
    "duration": 7,
    "start_time": "2025-04-10T00:32:53.319Z"
   },
   {
    "duration": 8,
    "start_time": "2025-04-10T00:32:53.329Z"
   },
   {
    "duration": 34,
    "start_time": "2025-04-10T00:32:53.338Z"
   },
   {
    "duration": 4,
    "start_time": "2025-04-10T00:32:53.373Z"
   },
   {
    "duration": 4,
    "start_time": "2025-04-10T00:32:53.379Z"
   },
   {
    "duration": 2,
    "start_time": "2025-04-10T00:32:53.385Z"
   },
   {
    "duration": 3,
    "start_time": "2025-04-10T00:32:53.389Z"
   },
   {
    "duration": 20,
    "start_time": "2025-04-10T00:32:53.394Z"
   },
   {
    "duration": 602,
    "start_time": "2025-04-10T00:32:53.415Z"
   },
   {
    "duration": 3,
    "start_time": "2025-04-10T00:32:54.020Z"
   },
   {
    "duration": 3,
    "start_time": "2025-04-10T00:32:54.025Z"
   },
   {
    "duration": 361,
    "start_time": "2025-04-10T00:32:54.030Z"
   },
   {
    "duration": 0,
    "start_time": "2025-04-10T00:32:54.392Z"
   },
   {
    "duration": 0,
    "start_time": "2025-04-10T00:32:54.393Z"
   },
   {
    "duration": 0,
    "start_time": "2025-04-10T00:32:54.395Z"
   },
   {
    "duration": 0,
    "start_time": "2025-04-10T00:32:54.396Z"
   },
   {
    "duration": 0,
    "start_time": "2025-04-10T00:32:54.397Z"
   },
   {
    "duration": 0,
    "start_time": "2025-04-10T00:32:54.399Z"
   },
   {
    "duration": 0,
    "start_time": "2025-04-10T00:32:54.400Z"
   },
   {
    "duration": 3,
    "start_time": "2025-04-10T00:33:26.954Z"
   },
   {
    "duration": 1018,
    "start_time": "2025-04-10T00:33:31.702Z"
   },
   {
    "duration": 7,
    "start_time": "2025-04-10T00:33:32.722Z"
   },
   {
    "duration": 3,
    "start_time": "2025-04-10T00:33:32.731Z"
   },
   {
    "duration": 10,
    "start_time": "2025-04-10T00:33:32.736Z"
   },
   {
    "duration": 24,
    "start_time": "2025-04-10T00:33:32.748Z"
   },
   {
    "duration": 4,
    "start_time": "2025-04-10T00:33:32.774Z"
   },
   {
    "duration": 8,
    "start_time": "2025-04-10T00:33:32.779Z"
   },
   {
    "duration": 17,
    "start_time": "2025-04-10T00:33:32.788Z"
   },
   {
    "duration": 5,
    "start_time": "2025-04-10T00:33:32.806Z"
   },
   {
    "duration": 5,
    "start_time": "2025-04-10T00:33:32.814Z"
   },
   {
    "duration": 4,
    "start_time": "2025-04-10T00:33:32.820Z"
   },
   {
    "duration": 2796,
    "start_time": "2025-04-10T00:33:32.826Z"
   },
   {
    "duration": 2722,
    "start_time": "2025-04-10T00:33:35.624Z"
   },
   {
    "duration": 6,
    "start_time": "2025-04-10T00:33:38.348Z"
   },
   {
    "duration": 20,
    "start_time": "2025-04-10T00:33:38.356Z"
   },
   {
    "duration": 8,
    "start_time": "2025-04-10T00:33:38.377Z"
   },
   {
    "duration": 7,
    "start_time": "2025-04-10T00:33:38.387Z"
   },
   {
    "duration": 7,
    "start_time": "2025-04-10T00:33:38.395Z"
   },
   {
    "duration": 4,
    "start_time": "2025-04-10T00:33:38.403Z"
   },
   {
    "duration": 5,
    "start_time": "2025-04-10T00:33:38.408Z"
   },
   {
    "duration": 3,
    "start_time": "2025-04-10T00:33:38.415Z"
   },
   {
    "duration": 4,
    "start_time": "2025-04-10T00:33:38.419Z"
   },
   {
    "duration": 58,
    "start_time": "2025-04-10T00:33:38.424Z"
   },
   {
    "duration": 561,
    "start_time": "2025-04-10T00:33:38.484Z"
   },
   {
    "duration": 4,
    "start_time": "2025-04-10T00:33:39.048Z"
   },
   {
    "duration": 4,
    "start_time": "2025-04-10T00:33:39.054Z"
   },
   {
    "duration": 15,
    "start_time": "2025-04-10T00:33:39.060Z"
   },
   {
    "duration": 11,
    "start_time": "2025-04-10T00:33:39.079Z"
   },
   {
    "duration": 78,
    "start_time": "2025-04-10T00:33:39.092Z"
   },
   {
    "duration": 4,
    "start_time": "2025-04-10T00:33:39.173Z"
   },
   {
    "duration": 4,
    "start_time": "2025-04-10T00:33:39.178Z"
   },
   {
    "duration": 6,
    "start_time": "2025-04-10T00:33:39.184Z"
   },
   {
    "duration": 83,
    "start_time": "2025-04-10T00:33:39.191Z"
   },
   {
    "duration": 13,
    "start_time": "2025-04-10T00:33:39.276Z"
   },
   {
    "duration": 8,
    "start_time": "2025-04-10T00:36:15.858Z"
   },
   {
    "duration": 21,
    "start_time": "2025-04-10T00:37:58.731Z"
   },
   {
    "duration": 5,
    "start_time": "2025-04-10T00:39:49.777Z"
   },
   {
    "duration": 3,
    "start_time": "2025-04-10T00:41:11.509Z"
   },
   {
    "duration": 5,
    "start_time": "2025-04-10T00:41:41.044Z"
   },
   {
    "duration": 28,
    "start_time": "2025-04-10T00:56:06.012Z"
   },
   {
    "duration": 164,
    "start_time": "2025-04-10T23:22:33.709Z"
   },
   {
    "duration": 12,
    "start_time": "2025-04-10T23:22:41.267Z"
   },
   {
    "duration": 2693,
    "start_time": "2025-04-10T23:22:47.202Z"
   },
   {
    "duration": 10,
    "start_time": "2025-04-10T23:22:49.897Z"
   },
   {
    "duration": 4,
    "start_time": "2025-04-10T23:22:49.908Z"
   },
   {
    "duration": 10,
    "start_time": "2025-04-10T23:22:49.914Z"
   },
   {
    "duration": 8,
    "start_time": "2025-04-10T23:22:49.927Z"
   },
   {
    "duration": 3,
    "start_time": "2025-04-10T23:22:49.937Z"
   },
   {
    "duration": 10,
    "start_time": "2025-04-10T23:22:49.941Z"
   },
   {
    "duration": 19,
    "start_time": "2025-04-10T23:22:49.953Z"
   },
   {
    "duration": 38,
    "start_time": "2025-04-10T23:22:49.974Z"
   },
   {
    "duration": 4,
    "start_time": "2025-04-10T23:22:50.014Z"
   },
   {
    "duration": 3,
    "start_time": "2025-04-10T23:22:50.020Z"
   },
   {
    "duration": 2732,
    "start_time": "2025-04-10T23:22:50.024Z"
   },
   {
    "duration": 2518,
    "start_time": "2025-04-10T23:22:52.758Z"
   },
   {
    "duration": 79,
    "start_time": "2025-04-10T23:22:55.281Z"
   },
   {
    "duration": 8,
    "start_time": "2025-04-10T23:22:55.362Z"
   },
   {
    "duration": 8,
    "start_time": "2025-04-10T23:22:55.372Z"
   },
   {
    "duration": 7,
    "start_time": "2025-04-10T23:22:55.381Z"
   },
   {
    "duration": 28,
    "start_time": "2025-04-10T23:22:55.390Z"
   },
   {
    "duration": 3,
    "start_time": "2025-04-10T23:22:55.419Z"
   },
   {
    "duration": 5,
    "start_time": "2025-04-10T23:22:55.424Z"
   },
   {
    "duration": 3,
    "start_time": "2025-04-10T23:22:55.430Z"
   },
   {
    "duration": 3,
    "start_time": "2025-04-10T23:22:55.434Z"
   },
   {
    "duration": 20,
    "start_time": "2025-04-10T23:22:55.439Z"
   },
   {
    "duration": 566,
    "start_time": "2025-04-10T23:22:55.460Z"
   },
   {
    "duration": 3,
    "start_time": "2025-04-10T23:22:56.028Z"
   },
   {
    "duration": 4,
    "start_time": "2025-04-10T23:22:56.033Z"
   },
   {
    "duration": 9,
    "start_time": "2025-04-10T23:22:56.039Z"
   },
   {
    "duration": 65,
    "start_time": "2025-04-10T23:22:56.049Z"
   },
   {
    "duration": 4,
    "start_time": "2025-04-10T23:22:56.116Z"
   },
   {
    "duration": 3,
    "start_time": "2025-04-10T23:22:56.121Z"
   },
   {
    "duration": 3,
    "start_time": "2025-04-10T23:22:56.126Z"
   },
   {
    "duration": 310,
    "start_time": "2025-04-10T23:22:56.131Z"
   },
   {
    "duration": 0,
    "start_time": "2025-04-10T23:22:56.443Z"
   },
   {
    "duration": 0,
    "start_time": "2025-04-10T23:22:56.444Z"
   },
   {
    "duration": 3,
    "start_time": "2025-04-10T23:31:08.222Z"
   },
   {
    "duration": 4,
    "start_time": "2025-04-10T23:42:37.036Z"
   },
   {
    "duration": 4,
    "start_time": "2025-04-11T00:25:27.335Z"
   },
   {
    "duration": 994,
    "start_time": "2025-04-11T00:27:27.653Z"
   },
   {
    "duration": 9,
    "start_time": "2025-04-11T00:27:28.649Z"
   },
   {
    "duration": 3,
    "start_time": "2025-04-11T00:27:28.659Z"
   },
   {
    "duration": 10,
    "start_time": "2025-04-11T00:27:28.665Z"
   },
   {
    "duration": 9,
    "start_time": "2025-04-11T00:27:28.676Z"
   },
   {
    "duration": 9,
    "start_time": "2025-04-11T00:27:28.686Z"
   },
   {
    "duration": 9,
    "start_time": "2025-04-11T00:27:28.712Z"
   },
   {
    "duration": 16,
    "start_time": "2025-04-11T00:27:28.722Z"
   },
   {
    "duration": 6,
    "start_time": "2025-04-11T00:27:28.739Z"
   },
   {
    "duration": 5,
    "start_time": "2025-04-11T00:27:28.748Z"
   },
   {
    "duration": 3,
    "start_time": "2025-04-11T00:27:28.755Z"
   },
   {
    "duration": 2708,
    "start_time": "2025-04-11T00:27:28.760Z"
   },
   {
    "duration": 2545,
    "start_time": "2025-04-11T00:27:31.470Z"
   },
   {
    "duration": 5,
    "start_time": "2025-04-11T00:27:34.017Z"
   },
   {
    "duration": 7,
    "start_time": "2025-04-11T00:27:34.024Z"
   },
   {
    "duration": 7,
    "start_time": "2025-04-11T00:27:34.033Z"
   },
   {
    "duration": 4,
    "start_time": "2025-04-11T00:27:34.042Z"
   },
   {
    "duration": 245,
    "start_time": "2025-04-11T00:27:34.048Z"
   },
   {
    "duration": 0,
    "start_time": "2025-04-11T00:27:34.294Z"
   },
   {
    "duration": 0,
    "start_time": "2025-04-11T00:27:34.296Z"
   },
   {
    "duration": 0,
    "start_time": "2025-04-11T00:27:34.297Z"
   },
   {
    "duration": 0,
    "start_time": "2025-04-11T00:27:34.299Z"
   },
   {
    "duration": 0,
    "start_time": "2025-04-11T00:27:34.312Z"
   },
   {
    "duration": 0,
    "start_time": "2025-04-11T00:27:34.313Z"
   },
   {
    "duration": 0,
    "start_time": "2025-04-11T00:27:34.314Z"
   },
   {
    "duration": 0,
    "start_time": "2025-04-11T00:27:34.315Z"
   },
   {
    "duration": 1,
    "start_time": "2025-04-11T00:27:34.315Z"
   },
   {
    "duration": 0,
    "start_time": "2025-04-11T00:27:34.316Z"
   },
   {
    "duration": 0,
    "start_time": "2025-04-11T00:27:34.317Z"
   },
   {
    "duration": 0,
    "start_time": "2025-04-11T00:27:34.318Z"
   },
   {
    "duration": 0,
    "start_time": "2025-04-11T00:27:34.319Z"
   },
   {
    "duration": 0,
    "start_time": "2025-04-11T00:27:34.320Z"
   },
   {
    "duration": 0,
    "start_time": "2025-04-11T00:27:34.321Z"
   },
   {
    "duration": 0,
    "start_time": "2025-04-11T00:27:34.322Z"
   },
   {
    "duration": 5,
    "start_time": "2025-04-11T00:28:48.817Z"
   },
   {
    "duration": 4,
    "start_time": "2025-04-11T00:29:56.857Z"
   },
   {
    "duration": 937,
    "start_time": "2025-04-11T00:30:09.293Z"
   },
   {
    "duration": 11,
    "start_time": "2025-04-11T00:30:10.232Z"
   },
   {
    "duration": 3,
    "start_time": "2025-04-11T00:30:10.244Z"
   },
   {
    "duration": 10,
    "start_time": "2025-04-11T00:30:10.249Z"
   },
   {
    "duration": 11,
    "start_time": "2025-04-11T00:30:10.262Z"
   },
   {
    "duration": 4,
    "start_time": "2025-04-11T00:30:10.275Z"
   },
   {
    "duration": 9,
    "start_time": "2025-04-11T00:30:10.281Z"
   },
   {
    "duration": 16,
    "start_time": "2025-04-11T00:30:10.312Z"
   },
   {
    "duration": 4,
    "start_time": "2025-04-11T00:30:10.330Z"
   },
   {
    "duration": 5,
    "start_time": "2025-04-11T00:30:10.337Z"
   },
   {
    "duration": 3,
    "start_time": "2025-04-11T00:30:10.344Z"
   },
   {
    "duration": 2748,
    "start_time": "2025-04-11T00:30:10.348Z"
   },
   {
    "duration": 2584,
    "start_time": "2025-04-11T00:30:13.098Z"
   },
   {
    "duration": 5,
    "start_time": "2025-04-11T00:30:15.686Z"
   },
   {
    "duration": 22,
    "start_time": "2025-04-11T00:30:15.693Z"
   },
   {
    "duration": 9,
    "start_time": "2025-04-11T00:30:15.716Z"
   },
   {
    "duration": 98,
    "start_time": "2025-04-11T00:30:15.726Z"
   },
   {
    "duration": 327,
    "start_time": "2025-04-11T00:30:15.826Z"
   },
   {
    "duration": 0,
    "start_time": "2025-04-11T00:30:16.155Z"
   },
   {
    "duration": 0,
    "start_time": "2025-04-11T00:30:16.156Z"
   },
   {
    "duration": 0,
    "start_time": "2025-04-11T00:30:16.157Z"
   },
   {
    "duration": 0,
    "start_time": "2025-04-11T00:30:16.158Z"
   },
   {
    "duration": 0,
    "start_time": "2025-04-11T00:30:16.159Z"
   },
   {
    "duration": 0,
    "start_time": "2025-04-11T00:30:16.161Z"
   },
   {
    "duration": 0,
    "start_time": "2025-04-11T00:30:16.162Z"
   },
   {
    "duration": 0,
    "start_time": "2025-04-11T00:30:16.163Z"
   },
   {
    "duration": 0,
    "start_time": "2025-04-11T00:30:16.165Z"
   },
   {
    "duration": 0,
    "start_time": "2025-04-11T00:30:16.167Z"
   },
   {
    "duration": 0,
    "start_time": "2025-04-11T00:30:16.168Z"
   },
   {
    "duration": 0,
    "start_time": "2025-04-11T00:30:16.170Z"
   },
   {
    "duration": 0,
    "start_time": "2025-04-11T00:30:16.171Z"
   },
   {
    "duration": 0,
    "start_time": "2025-04-11T00:30:16.173Z"
   },
   {
    "duration": 0,
    "start_time": "2025-04-11T00:30:16.175Z"
   },
   {
    "duration": 0,
    "start_time": "2025-04-11T00:30:16.176Z"
   },
   {
    "duration": 14,
    "start_time": "2025-04-11T00:31:31.920Z"
   },
   {
    "duration": 27,
    "start_time": "2025-04-11T00:32:05.169Z"
   },
   {
    "duration": 26,
    "start_time": "2025-04-11T00:32:27.032Z"
   },
   {
    "duration": 20,
    "start_time": "2025-04-11T00:33:26.571Z"
   },
   {
    "duration": 940,
    "start_time": "2025-04-11T00:34:05.189Z"
   },
   {
    "duration": 9,
    "start_time": "2025-04-11T00:34:06.131Z"
   },
   {
    "duration": 2,
    "start_time": "2025-04-11T00:34:06.143Z"
   },
   {
    "duration": 11,
    "start_time": "2025-04-11T00:34:06.147Z"
   },
   {
    "duration": 8,
    "start_time": "2025-04-11T00:34:06.160Z"
   },
   {
    "duration": 3,
    "start_time": "2025-04-11T00:34:06.170Z"
   },
   {
    "duration": 7,
    "start_time": "2025-04-11T00:34:06.175Z"
   },
   {
    "duration": 42,
    "start_time": "2025-04-11T00:34:06.184Z"
   },
   {
    "duration": 5,
    "start_time": "2025-04-11T00:34:06.228Z"
   },
   {
    "duration": 4,
    "start_time": "2025-04-11T00:34:06.235Z"
   },
   {
    "duration": 3,
    "start_time": "2025-04-11T00:34:06.241Z"
   },
   {
    "duration": 2743,
    "start_time": "2025-04-11T00:34:06.246Z"
   },
   {
    "duration": 2615,
    "start_time": "2025-04-11T00:34:08.991Z"
   },
   {
    "duration": 5,
    "start_time": "2025-04-11T00:34:11.614Z"
   },
   {
    "duration": 9,
    "start_time": "2025-04-11T00:34:11.620Z"
   },
   {
    "duration": 7,
    "start_time": "2025-04-11T00:34:11.632Z"
   },
   {
    "duration": 104,
    "start_time": "2025-04-11T00:34:11.641Z"
   },
   {
    "duration": 172,
    "start_time": "2025-04-11T00:34:11.747Z"
   },
   {
    "duration": 4,
    "start_time": "2025-04-11T00:34:11.922Z"
   },
   {
    "duration": 7,
    "start_time": "2025-04-11T00:34:11.928Z"
   },
   {
    "duration": 3,
    "start_time": "2025-04-11T00:34:11.936Z"
   },
   {
    "duration": 2,
    "start_time": "2025-04-11T00:34:11.941Z"
   },
   {
    "duration": 21,
    "start_time": "2025-04-11T00:34:11.945Z"
   },
   {
    "duration": 633,
    "start_time": "2025-04-11T00:34:11.968Z"
   },
   {
    "duration": 10,
    "start_time": "2025-04-11T00:34:12.602Z"
   },
   {
    "duration": 3,
    "start_time": "2025-04-11T00:34:12.613Z"
   },
   {
    "duration": 7,
    "start_time": "2025-04-11T00:34:12.617Z"
   },
   {
    "duration": 349,
    "start_time": "2025-04-11T00:34:12.626Z"
   },
   {
    "duration": 0,
    "start_time": "2025-04-11T00:34:12.976Z"
   },
   {
    "duration": 0,
    "start_time": "2025-04-11T00:34:12.978Z"
   },
   {
    "duration": 0,
    "start_time": "2025-04-11T00:34:12.979Z"
   },
   {
    "duration": 0,
    "start_time": "2025-04-11T00:34:12.980Z"
   },
   {
    "duration": 0,
    "start_time": "2025-04-11T00:34:12.981Z"
   },
   {
    "duration": 0,
    "start_time": "2025-04-11T00:34:12.981Z"
   },
   {
    "duration": 10,
    "start_time": "2025-04-11T00:41:49.540Z"
   },
   {
    "duration": 10,
    "start_time": "2025-04-11T00:42:32.269Z"
   },
   {
    "duration": 966,
    "start_time": "2025-04-11T00:43:29.735Z"
   },
   {
    "duration": 9,
    "start_time": "2025-04-11T00:43:30.704Z"
   },
   {
    "duration": 3,
    "start_time": "2025-04-11T00:43:30.714Z"
   },
   {
    "duration": 10,
    "start_time": "2025-04-11T00:43:30.718Z"
   },
   {
    "duration": 8,
    "start_time": "2025-04-11T00:43:30.731Z"
   },
   {
    "duration": 4,
    "start_time": "2025-04-11T00:43:30.740Z"
   },
   {
    "duration": 8,
    "start_time": "2025-04-11T00:43:30.745Z"
   },
   {
    "duration": 16,
    "start_time": "2025-04-11T00:43:30.754Z"
   },
   {
    "duration": 6,
    "start_time": "2025-04-11T00:43:30.771Z"
   },
   {
    "duration": 4,
    "start_time": "2025-04-11T00:43:30.812Z"
   },
   {
    "duration": 3,
    "start_time": "2025-04-11T00:43:30.818Z"
   },
   {
    "duration": 2737,
    "start_time": "2025-04-11T00:43:30.823Z"
   },
   {
    "duration": 2542,
    "start_time": "2025-04-11T00:43:33.562Z"
   },
   {
    "duration": 5,
    "start_time": "2025-04-11T00:43:36.113Z"
   },
   {
    "duration": 8,
    "start_time": "2025-04-11T00:43:36.120Z"
   },
   {
    "duration": 8,
    "start_time": "2025-04-11T00:43:36.130Z"
   },
   {
    "duration": 103,
    "start_time": "2025-04-11T00:43:36.141Z"
   },
   {
    "duration": 105,
    "start_time": "2025-04-11T00:43:36.312Z"
   },
   {
    "duration": 2,
    "start_time": "2025-04-11T00:43:36.419Z"
   },
   {
    "duration": 5,
    "start_time": "2025-04-11T00:43:36.423Z"
   },
   {
    "duration": 4,
    "start_time": "2025-04-11T00:43:36.430Z"
   },
   {
    "duration": 2,
    "start_time": "2025-04-11T00:43:36.436Z"
   },
   {
    "duration": 19,
    "start_time": "2025-04-11T00:43:36.440Z"
   },
   {
    "duration": 611,
    "start_time": "2025-04-11T00:43:36.460Z"
   },
   {
    "duration": 4,
    "start_time": "2025-04-11T00:43:37.072Z"
   },
   {
    "duration": 3,
    "start_time": "2025-04-11T00:43:37.078Z"
   },
   {
    "duration": 29,
    "start_time": "2025-04-11T00:43:37.083Z"
   },
   {
    "duration": 11,
    "start_time": "2025-04-11T00:43:37.114Z"
   },
   {
    "duration": 3,
    "start_time": "2025-04-11T00:43:37.127Z"
   },
   {
    "duration": 3,
    "start_time": "2025-04-11T00:43:37.131Z"
   },
   {
    "duration": 77,
    "start_time": "2025-04-11T00:43:37.136Z"
   },
   {
    "duration": 3,
    "start_time": "2025-04-11T00:43:37.215Z"
   },
   {
    "duration": 98,
    "start_time": "2025-04-11T00:43:37.219Z"
   },
   {
    "duration": 14,
    "start_time": "2025-04-11T00:43:37.319Z"
   },
   {
    "duration": 983,
    "start_time": "2025-04-11T00:47:34.918Z"
   },
   {
    "duration": 8,
    "start_time": "2025-04-11T00:47:35.903Z"
   },
   {
    "duration": 2,
    "start_time": "2025-04-11T00:47:35.913Z"
   },
   {
    "duration": 10,
    "start_time": "2025-04-11T00:47:35.917Z"
   },
   {
    "duration": 8,
    "start_time": "2025-04-11T00:47:35.930Z"
   },
   {
    "duration": 3,
    "start_time": "2025-04-11T00:47:35.940Z"
   },
   {
    "duration": 8,
    "start_time": "2025-04-11T00:47:35.944Z"
   },
   {
    "duration": 16,
    "start_time": "2025-04-11T00:47:35.953Z"
   },
   {
    "duration": 43,
    "start_time": "2025-04-11T00:47:35.970Z"
   },
   {
    "duration": 5,
    "start_time": "2025-04-11T00:47:36.014Z"
   },
   {
    "duration": 3,
    "start_time": "2025-04-11T00:47:36.021Z"
   },
   {
    "duration": 2743,
    "start_time": "2025-04-11T00:47:36.025Z"
   },
   {
    "duration": 2561,
    "start_time": "2025-04-11T00:47:38.771Z"
   },
   {
    "duration": 5,
    "start_time": "2025-04-11T00:47:41.335Z"
   },
   {
    "duration": 9,
    "start_time": "2025-04-11T00:47:41.341Z"
   },
   {
    "duration": 7,
    "start_time": "2025-04-11T00:47:41.352Z"
   },
   {
    "duration": 152,
    "start_time": "2025-04-11T00:47:41.361Z"
   },
   {
    "duration": 104,
    "start_time": "2025-04-11T00:47:41.515Z"
   },
   {
    "duration": 4,
    "start_time": "2025-04-11T00:47:41.620Z"
   },
   {
    "duration": 5,
    "start_time": "2025-04-11T00:47:41.625Z"
   },
   {
    "duration": 3,
    "start_time": "2025-04-11T00:47:41.632Z"
   },
   {
    "duration": 3,
    "start_time": "2025-04-11T00:47:41.637Z"
   },
   {
    "duration": 23,
    "start_time": "2025-04-11T00:47:41.642Z"
   },
   {
    "duration": 582,
    "start_time": "2025-04-11T00:47:41.667Z"
   },
   {
    "duration": 3,
    "start_time": "2025-04-11T00:47:42.251Z"
   },
   {
    "duration": 3,
    "start_time": "2025-04-11T00:47:42.256Z"
   },
   {
    "duration": 7,
    "start_time": "2025-04-11T00:47:42.261Z"
   },
   {
    "duration": 51,
    "start_time": "2025-04-11T00:47:42.270Z"
   },
   {
    "duration": 3,
    "start_time": "2025-04-11T00:47:42.323Z"
   },
   {
    "duration": 3,
    "start_time": "2025-04-11T00:47:42.328Z"
   },
   {
    "duration": 3,
    "start_time": "2025-04-11T00:47:42.332Z"
   },
   {
    "duration": 77,
    "start_time": "2025-04-11T00:47:42.337Z"
   },
   {
    "duration": 20,
    "start_time": "2025-04-11T00:47:42.415Z"
   },
   {
    "duration": 85,
    "start_time": "2025-04-11T00:47:42.436Z"
   }
  ],
  "kernelspec": {
   "display_name": "Python 3 (ipykernel)",
   "language": "python",
   "name": "python3"
  },
  "language_info": {
   "codemirror_mode": {
    "name": "ipython",
    "version": 3
   },
   "file_extension": ".py",
   "mimetype": "text/x-python",
   "name": "python",
   "nbconvert_exporter": "python",
   "pygments_lexer": "ipython3",
   "version": "3.9.19"
  },
  "toc": {
   "base_numbering": 1,
   "nav_menu": {},
   "number_sections": true,
   "sideBar": true,
   "skip_h1_title": true,
   "title_cell": "Table of Contents",
   "title_sidebar": "Contents",
   "toc_cell": false,
   "toc_position": {},
   "toc_section_display": true,
   "toc_window_display": false
  }
 },
 "nbformat": 4,
 "nbformat_minor": 4
}
